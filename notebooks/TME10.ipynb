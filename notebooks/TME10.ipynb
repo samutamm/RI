{
 "cells": [
  {
   "cell_type": "code",
   "execution_count": null,
   "metadata": {},
   "outputs": [],
   "source": [
    "from matplotlib import pyplot as plt\n",
    "%matplotlib notebook\n",
    "\n",
    "import sys \n",
    "sys.path.append('..')\n",
    "\n",
    "from ParserQuery import *\n",
    "from Index import Index\n",
    "from Weighter import WeighterVector, WeighterSchema3\n",
    "from IRModel import Vectoriel, LanguageModel, BM25Model\n",
    "from Evaluation import *\n",
    "from EvalIRModel import *\n",
    "\n",
    "from diversity.GreedyRanking import GreedyRanking, calculate_vector_presentation\n",
    "from sklearn.metrics.pairwise import cosine_similarity\n",
    "\n",
    "\n",
    "%load_ext autoreload\n",
    "%autoreload 2"
   ]
  },
  {
   "cell_type": "code",
   "execution_count": null,
   "metadata": {},
   "outputs": [],
   "source": [
    "#'''\n",
    "data_path = '../easyCLEF08/'\n",
    "index_path = '../indexes/easyCLEF08/'\n",
    "index_name = 'easyCLEF08'\n",
    "#'''\n",
    "\n",
    "'''\n",
    "data_path = '../data/easyCLEF08/'\n",
    "index_path = '../indexes/easyCLEF08/'\n",
    "index_name = 'easyCLEF08'\n",
    "'''\n",
    "\n",
    "filename_queries = data_path+'/easyCLEF08_query.txt'\n",
    "filename_jugements = data_path+'/easyCLEF08_gt.txt'\n",
    "\n",
    "eval_ir = EvalIRModel(filename_queries, filename_jugements)"
   ]
  },
  {
   "cell_type": "code",
   "execution_count": null,
   "metadata": {},
   "outputs": [],
   "source": [
    "index = Index('easyCLEF08', '../easyCLEF08/easyCLEF08_text.txt', index_path='../indexes/easyCLEF08/')\n",
    "#index.indexation()\n",
    "weighter2 = WeighterVector(index)\n",
    "#weighter2.calculeNorms()\n",
    "weighter3 = WeighterSchema3(index)\n",
    "#weighter3.calculeNorms()\n",
    "greedy = GreedyRanking(index)"
   ]
  },
  {
   "cell_type": "code",
   "execution_count": null,
   "metadata": {},
   "outputs": [],
   "source": [
    "qp = QueryParser()\n",
    "qp.initFile('../easyCLEF08/easyCLEF08_query.txt', '../easyCLEF08/easyCLEF08_gt.txt')\n",
    "qu = qp.nextQuery()\n",
    "query = qu.text_\n",
    "\n",
    "doc_ids = list(index.getDocIds())\n",
    "\n",
    "pivot = greedy.diversified_rank(doc_ids, query, K=2)\n",
    "pivot"
   ]
  },
  {
   "cell_type": "code",
   "execution_count": null,
   "metadata": {},
   "outputs": [],
   "source": [
    "cache = greedy.vector_cache"
   ]
  },
  {
   "cell_type": "code",
   "execution_count": null,
   "metadata": {},
   "outputs": [],
   "source": [
    "greedy.vector_cache = cache"
   ]
  }
 ],
 "metadata": {
  "kernelspec": {
   "display_name": "Python 3",
   "language": "python",
   "name": "python3"
  },
  "language_info": {
   "codemirror_mode": {
    "name": "ipython",
    "version": 3
   },
   "file_extension": ".py",
   "mimetype": "text/x-python",
   "name": "python",
   "nbconvert_exporter": "python",
   "pygments_lexer": "ipython3",
   "version": "3.6.5"
  }
 },
 "nbformat": 4,
 "nbformat_minor": 2
}
