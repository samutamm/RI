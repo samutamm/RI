{
 "cells": [
  {
   "cell_type": "code",
   "execution_count": 1,
   "metadata": {},
   "outputs": [],
   "source": [
    "from Document import Document\n",
    "from ParserCACM import ParserCACM\n",
    "from porter import stem\n",
    "from TextRepresenter import PorterStemmer\n",
    "import pickle\n",
    "import numpy as np\n",
    "\n",
    "%load_ext autoreload\n",
    "%autoreload 2\n",
    "\n",
    "from Index import Index, InvertedIndexPlaces\n",
    "from Weighter import WeighterBoolean"
   ]
  },
  {
   "cell_type": "code",
   "execution_count": 4,
   "metadata": {
    "scrolled": true
   },
   "outputs": [
    {
     "name": "stdout",
     "output_type": "stream",
     "text": [
      "The autoreload extension is already loaded. To reload it, use:\n",
      "  %reload_ext autoreload\n"
     ]
    }
   ],
   "source": [
    "from Index import Index, InvertedIndexPlaces\n",
    "from Weighter import WeighterBoolean, WeighterVector\n",
    "from IRModel import Vectoriel\n",
    "\n",
    "index = Index(\"test\", \"cacm/cacm.txt\")\n",
    "#index.indexation()"
   ]
  },
  {
   "cell_type": "code",
   "execution_count": 21,
   "metadata": {},
   "outputs": [
    {
     "name": "stdout",
     "output_type": "stream",
     "text": [
      "{'cat': 2, 'mat': 1}\n"
     ]
    },
    {
     "data": {
      "text/plain": [
       "{'cat': 1, 'mat': 1}"
      ]
     },
     "execution_count": 21,
     "metadata": {},
     "output_type": "execute_result"
    }
   ],
   "source": [
    "stemmer = PorterStemmer()\n",
    "text = \"cat is on the mat, cat\"\n",
    "w1 = WeighterBoolean(index)\n",
    "txt = stemmer.getTextRepresentation(text)\n",
    "print(txt)\n",
    "w1.getWeightsForQuery(txt)"
   ]
  },
  {
   "cell_type": "code",
   "execution_count": 38,
   "metadata": {},
   "outputs": [
    {
     "data": {
      "text/plain": [
       "[[\"b'320'\", 0.023716],\n",
       " [\"b'3133'\", 0.01904],\n",
       " [\"b'1138'\", 0.018738],\n",
       " [\"b'2931'\", 0.017653],\n",
       " [\"b'1103'\", 0.01703]]"
      ]
     },
     "execution_count": 38,
     "metadata": {},
     "output_type": "execute_result"
    }
   ],
   "source": [
    "text = \"formal logic\"\n",
    "query = stemmer.getTextRepresentation(text)\n",
    "\n",
    "model = Vectoriel(WeighterVector(index))\n",
    "rank = model.getRanking(text, normalized=True)\n",
    "#index.getStrDoc(int(float('1771.0')))\n",
    "#rank.dtype = int\n",
    "rank[:5]"
   ]
  },
  {
   "cell_type": "code",
   "execution_count": 39,
   "metadata": {},
   "outputs": [
    {
     "data": {
      "text/plain": [
       "' Logic-Structure Tables \\n  Cantrell, H. N. King, J. King, F. E. H. \\n  \\n  Logic tables are an excellent way of developing and expressing the logic required in procedures,  operations, systems and circuits.  A set of rules for writing and using logic tables is explained by  means of some simple examples.  Then the logic structure of a vending machine is given in which two logic  tables are used.  Logic tables are two-dimensional in nature, enabling us to fully express and consider  both the sequential and parallel aspects of logic.  They can be compiled directly into a computer program  and so eliminate the need for flow charting and hand coding.'"
      ]
     },
     "execution_count": 39,
     "metadata": {},
     "output_type": "execute_result"
    }
   ],
   "source": [
    "index.getStrDoc('320')"
   ]
  },
  {
   "cell_type": "code",
   "execution_count": 7,
   "metadata": {},
   "outputs": [],
   "source": [
    "from ParserQuery import QueryParser"
   ]
  },
  {
   "cell_type": "code",
   "execution_count": 24,
   "metadata": {},
   "outputs": [],
   "source": [
    "qp = QueryParser()\n",
    "qp.initFile(\"cacm.qry\", \"cacm.rel\")"
   ]
  },
  {
   "cell_type": "code",
   "execution_count": null,
   "metadata": {},
   "outputs": [],
   "source": []
  }
 ],
 "metadata": {
  "kernelspec": {
   "display_name": "Python 3",
   "language": "python",
   "name": "python3"
  },
  "language_info": {
   "codemirror_mode": {
    "name": "ipython",
    "version": 3
   },
   "file_extension": ".py",
   "mimetype": "text/x-python",
   "name": "python",
   "nbconvert_exporter": "python",
   "pygments_lexer": "ipython3",
   "version": "3.6.7rc1"
  }
 },
 "nbformat": 4,
 "nbformat_minor": 2
}
