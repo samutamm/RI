{
 "cells": [
  {
   "cell_type": "code",
   "execution_count": null,
   "metadata": {},
   "outputs": [],
   "source": [
    "from matplotlib import pyplot as plt\n",
    "%matplotlib notebook\n",
    "\n",
    "import sys \n",
    "sys.path.append('..')\n",
    "\n",
    "from ParserQuery import *\n",
    "from Index import Index\n",
    "from Weighter import WeighterVector, WeighterSchema3\n",
    "from IRModel import Vectoriel, LanguageModel, BM25Model\n",
    "from Evaluation import *\n",
    "from EvalIRModel import *\n",
    "\n",
    "from diversity.Clustering import ClusteringDiversifier\n",
    "\n",
    "%load_ext autoreload\n",
    "%autoreload 2"
   ]
  },
  {
   "cell_type": "code",
   "execution_count": null,
   "metadata": {},
   "outputs": [],
   "source": [
    "train_prop = 0.8\n",
    "seed = 42\n",
    "train_results = {}\n",
    "test_results = {}\n",
    "\n",
    "lambda_ = 0.13\n",
    "k1 = 2\n",
    "b = 0.95"
   ]
  },
  {
   "cell_type": "code",
   "execution_count": null,
   "metadata": {},
   "outputs": [],
   "source": [
    "#'''\n",
    "data_path = '../easyCLEF08/'\n",
    "index_path = '../indexes/easyCLEF08/'\n",
    "index_name = 'easyCLEF08'\n",
    "#'''\n",
    "\n",
    "'''\n",
    "data_path = '../data/easyCLEF08/'\n",
    "index_path = '../indexes/easyCLEF08/'\n",
    "index_name = 'easyCLEF08'\n",
    "'''\n",
    "\n",
    "filename_queries = data_path+'/easyCLEF08_query.txt'\n",
    "filename_jugements = data_path+'/easyCLEF08_gt.txt'\n",
    "\n",
    "eval_ir = EvalIRModel(filename_queries, filename_jugements)"
   ]
  },
  {
   "cell_type": "markdown",
   "metadata": {},
   "source": [
    "# Evaluate models\n",
    "Compare baseline aux differents méthodes du diversite."
   ]
  },
  {
   "cell_type": "code",
   "execution_count": null,
   "metadata": {},
   "outputs": [],
   "source": [
    "index = Index('easyCLEF08', '../easyCLEF08/easyCLEF08_text.txt', index_path='../indexes/easyCLEF08/')\n",
    "#index.indexation()\n",
    "weighter2 = WeighterVector(index)\n",
    "#weighter2.calculeNorms()\n",
    "weighter3 = WeighterSchema3(index)\n",
    "#weighter3.calculeNorms()\n",
    "#baseline = LanguageModel(weighter2)\n",
    "clust = ClusteringDiversifier(index)\n",
    "#wrap_clust = lambda m, q: clust.diversify(m.getRanking(q, lambda_=lambda_))[0].values\n",
    "baseline = BM25Model(weighter2)\n"
   ]
  },
  {
   "cell_type": "code",
   "execution_count": null,
   "metadata": {},
   "outputs": [],
   "source": [
    "results = []\n",
    "clusters_n = [1,3,5,10,15,20]\n",
    "for nc in clusters_n:\n",
    "\n",
    "    wrap_clust = lambda m, q: clust.diversify(m.getRanking(q, k1=k1, b=b), by_top_n=40,  n_clusters=nc)[0].values\n",
    "    train_results = eval_ir.evalModel(baseline,\n",
    "                                       ranking_call = wrap_clust,\n",
    "                                       train_prop=train_prop, seed=seed, mode='train')\n",
    "    results.append((train_results['precision_at_20'],train_results['cluster_recall_at_20']))"
   ]
  },
  {
   "cell_type": "code",
   "execution_count": null,
   "metadata": {},
   "outputs": [],
   "source": [
    "baseline_result = eval_ir.evalModel(baseline,\n",
    "                                       ranking_call =lambda m,q : m.getRanking(q, k1=k1, b=b),\n",
    "                                       train_prop=train_prop, seed=seed, mode='train')"
   ]
  },
  {
   "cell_type": "code",
   "execution_count": null,
   "metadata": {},
   "outputs": [],
   "source": [
    "baseline_result['cluster_recall_at_20']"
   ]
  },
  {
   "cell_type": "code",
   "execution_count": null,
   "metadata": {},
   "outputs": [],
   "source": [
    "plt.figure()\n",
    "results = np.array(results)\n",
    "plt.plot(clusters_n, results[:,1])\n",
    "plt.title(\"Clustering recall @20 avec diversite par clustering (les 40 plus pertinents)\")\n",
    "plt.ylabel('CR@20')\n",
    "plt.xlabel(\"Nombre des clusters\")\n",
    "plt.axhline(y=baseline_result['cluster_recall_at_20'], label=\"Baseline\")\n",
    "plt.legend()\n",
    "plt.savefig('diversite_clustering_clust_recall')"
   ]
  },
  {
   "cell_type": "code",
   "execution_count": null,
   "metadata": {},
   "outputs": [],
   "source": [
    "plt.figure()\n",
    "plt.plot(clusters_n, results[:,0])\n",
    "plt.title(\"Précision @20 avec diversite par clustering (les 40 plus pertinents)\")\n",
    "plt.ylabel('Prec@20')\n",
    "plt.xlabel(\"Nombre des clusters\")\n",
    "plt.axhline(y=baseline_result['precision_at_20'], label=\"Baseline\")\n",
    "plt.legend()\n",
    "plt.savefig('diversite_clustering_precision')"
   ]
  },
  {
   "cell_type": "code",
   "execution_count": null,
   "metadata": {},
   "outputs": [],
   "source": [
    "fig = plt.figure()\n",
    "legend = []\n",
    "\n",
    "ax1 = fig.add_subplot(2, 2, 1)\n",
    "plt.title('En train')\n",
    "i = 0\n",
    "for model_name, model_results in train_results.items():\n",
    "    legend.append(model_name)\n",
    "    i += 1\n",
    "    ax1.bar(i, model_results['precision_at_20'], yerr=model_results['precision_at_20_std'], capsize=4)\n",
    "fig.legend(legend)\n",
    "plt.show()"
   ]
  },
  {
   "cell_type": "code",
   "execution_count": null,
   "metadata": {},
   "outputs": [],
   "source": []
  },
  {
   "cell_type": "code",
   "execution_count": null,
   "metadata": {},
   "outputs": [],
   "source": [
    "del train_results['diversite_clust']"
   ]
  },
  {
   "cell_type": "code",
   "execution_count": null,
   "metadata": {},
   "outputs": [],
   "source": [
    "qp = QueryParser()\n",
    "qp.initFile('../easyCLEF08/easyCLEF08_query.txt', '../easyCLEF08/easyCLEF08_gt.txt')\n",
    "qu = qp.nextQuery()\n",
    "print(qu.text_, '\\n', qu.relevants_)\n",
    "prec = PrecisionAtN()\n",
    "prec_cluster = ClusterRecallAtN()\n",
    "rank = baseline.getRanking(qu.text_)\n",
    "\n",
    "irlist = IRList(qu, rank)\n",
    "print(prec.eval(ir_list=irlist))\n",
    "print(prec_cluster.eval(irlist))"
   ]
  },
  {
   "cell_type": "code",
   "execution_count": null,
   "metadata": {},
   "outputs": [],
   "source": [
    "cd = ClusteringDiversifier(index, cluster_order_by='size_descending')\n",
    "\n",
    "data, cluster_order = cd.diversify(rank, by_top_n=30, n_clusters=6)\n",
    "print(cluster_order)\n",
    "data.values"
   ]
  },
  {
   "cell_type": "code",
   "execution_count": null,
   "metadata": {},
   "outputs": [],
   "source": [
    "data[:,0]"
   ]
  }
 ],
 "metadata": {
  "kernelspec": {
   "display_name": "Python 3",
   "language": "python",
   "name": "python3"
  },
  "language_info": {
   "codemirror_mode": {
    "name": "ipython",
    "version": 3
   },
   "file_extension": ".py",
   "mimetype": "text/x-python",
   "name": "python",
   "nbconvert_exporter": "python",
   "pygments_lexer": "ipython3",
   "version": "3.6.5"
  }
 },
 "nbformat": 4,
 "nbformat_minor": 2
}
