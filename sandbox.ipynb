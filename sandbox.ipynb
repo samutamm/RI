{
 "cells": [
  {
   "cell_type": "code",
   "execution_count": 16,
   "metadata": {},
   "outputs": [
    {
     "name": "stdout",
     "output_type": "stream",
     "text": [
      "The autoreload extension is already loaded. To reload it, use:\n",
      "  %reload_ext autoreload\n"
     ]
    }
   ],
   "source": [
    "from Document import Document\n",
    "from ParserCACM import ParserCACM\n",
    "from ParserQuery import QueryParser\n",
    "from porter import stem\n",
    "from TextRepresenter import PorterStemmer\n",
    "import pickle\n",
    "import numpy as np\n",
    "import pandas as pd\n",
    "\n",
    "%load_ext autoreload\n",
    "%autoreload 2\n",
    "\n",
    "from Index import Index, InvertedIndexPlaces\n",
    "from Weighter import WeighterBoolean"
   ]
  },
  {
   "cell_type": "code",
   "execution_count": 2,
   "metadata": {
    "scrolled": true
   },
   "outputs": [],
   "source": [
    "from Index import Index, InvertedIndexPlaces\n",
    "from Weighter import WeighterBoolean, WeighterVector\n",
    "from IRModel import Vectoriel\n",
    "\n",
    "index = Index(\"cacm\", \"cacm/cacm.txt\")\n",
    "#index.indexation()"
   ]
  },
  {
   "cell_type": "code",
   "execution_count": 3,
   "metadata": {},
   "outputs": [
    {
     "name": "stdout",
     "output_type": "stream",
     "text": [
      "{'cat': 2, 'mat': 1}\n"
     ]
    },
    {
     "data": {
      "text/plain": [
       "{'cat': 1, 'mat': 1}"
      ]
     },
     "execution_count": 3,
     "metadata": {},
     "output_type": "execute_result"
    }
   ],
   "source": [
    "stemmer = PorterStemmer()\n",
    "text = \"cat is on the mat, cat\"\n",
    "w1 = WeighterBoolean(index)\n",
    "txt = stemmer.getTextRepresentation(text)\n",
    "print(txt)\n",
    "w1.getWeightsForQuery(txt)"
   ]
  },
  {
   "cell_type": "code",
   "execution_count": 7,
   "metadata": {},
   "outputs": [
    {
     "data": {
      "text/plain": [
       "array([0.        , 0.04444444, 0.08888889, 0.13333333, 0.17777778,\n",
       "       0.22222222, 0.26666667, 0.31111111, 0.35555556, 0.4       ])"
      ]
     },
     "execution_count": 7,
     "metadata": {},
     "output_type": "execute_result"
    }
   ],
   "source": [
    "np.linspace(0,.4,10)"
   ]
  },
  {
   "cell_type": "code",
   "execution_count": 5,
   "metadata": {},
   "outputs": [
    {
     "data": {
      "text/plain": [
       "' Logic-Structure Tables \\n  Cantrell, H. N. King, J. King, F. E. H. \\n  \\n  Logic tables are an excellent way of developing and expressing the logic required in procedures,  operations, systems and circuits.  A set of rules for writing and using logic tables is explained by  means of some simple examples.  Then the logic structure of a vending machine is given in which two logic  tables are used.  Logic tables are two-dimensional in nature, enabling us to fully express and consider  both the sequential and parallel aspects of logic.  They can be compiled directly into a computer program  and so eliminate the need for flow charting and hand coding.'"
      ]
     },
     "execution_count": 5,
     "metadata": {},
     "output_type": "execute_result"
    }
   ],
   "source": [
    "index.getStrDoc('320')"
   ]
  },
  {
   "cell_type": "code",
   "execution_count": 20,
   "metadata": {},
   "outputs": [],
   "source": [
    "from ParserQuery import QueryParser\n",
    "from Evaluation import IRList, PrecisionRecallEval, PrecisionMeanEval"
   ]
  },
  {
   "cell_type": "code",
   "execution_count": 27,
   "metadata": {},
   "outputs": [
    {
     "data": {
      "text/plain": [
       "0.003947456028141626"
      ]
     },
     "execution_count": 27,
     "metadata": {},
     "output_type": "execute_result"
    }
   ],
   "source": [
    "qp = QueryParser()\n",
    "qp.initFile(\"cacm/cacm.qry\", \"cacm/cacm.rel\")\n",
    "\n",
    "qp.nextQuery()\n",
    "query = qp.nextQuery()\n",
    "model = Vectoriel(WeighterVector(index))\n",
    "rank = model.getRanking(query.text_, normalized=True)\n",
    "irlist = IRList(query, rank)\n",
    "\n",
    "evaluator = PrecisionMeanEval()\n",
    "evaluator.eval(irlist)"
   ]
  }
 ],
 "metadata": {
  "kernelspec": {
   "display_name": "Python 3",
   "language": "python",
   "name": "python3"
  },
  "language_info": {
   "codemirror_mode": {
    "name": "ipython",
    "version": 3
   },
   "file_extension": ".py",
   "mimetype": "text/x-python",
   "name": "python",
   "nbconvert_exporter": "python",
   "pygments_lexer": "ipython3",
   "version": "3.6.5"
  }
 },
 "nbformat": 4,
 "nbformat_minor": 2
}
