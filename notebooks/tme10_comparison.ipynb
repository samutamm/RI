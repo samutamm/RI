{
 "cells": [
  {
   "cell_type": "code",
   "execution_count": null,
   "metadata": {},
   "outputs": [],
   "source": [
    "from matplotlib import pyplot as plt\n",
    "%matplotlib notebook\n",
    "\n",
    "import sys \n",
    "sys.path.append('..')\n",
    "\n",
    "from ParserQuery import *\n",
    "from Index import Index\n",
    "from Weighter import WeighterVector, WeighterSchema3\n",
    "from IRModel import Vectoriel, LanguageModel, BM25Model\n",
    "from Evaluation import *\n",
    "from EvalIRModel import *\n",
    "\n",
    "from diversity.Clustering import ClusteringDiversifier\n",
    "from diversity.GreedyRanking import GreedyRankingMMR, calculate_vector_presentation\n",
    "from diversity.RandomRanking import RandomDiversifier\n",
    "from sklearn.metrics.pairwise import cosine_similarity\n",
    "\n",
    "import time\n",
    "import pandas as pd\n",
    "\n",
    "%load_ext autoreload\n",
    "%autoreload 2"
   ]
  },
  {
   "cell_type": "code",
   "execution_count": null,
   "metadata": {},
   "outputs": [],
   "source": [
    "#'''\n",
    "data_path = '../easyCLEF08/'\n",
    "index_path = '../indexes/easyCLEF08/'\n",
    "index_name = 'easyCLEF08'\n",
    "#'''\n",
    "\n",
    "'''\n",
    "data_path = '../data/easyCLEF08/'\n",
    "index_path = '../indexes/easyCLEF08/'\n",
    "index_name = 'easyCLEF08'\n",
    "'''\n",
    "\n",
    "filename_queries = data_path+'/easyCLEF08_query.txt'\n",
    "filename_jugements = data_path+'/easyCLEF08_gt.txt'\n",
    "\n",
    "eval_ir = EvalIRModel(filename_queries, filename_jugements)"
   ]
  },
  {
   "cell_type": "code",
   "execution_count": null,
   "metadata": {},
   "outputs": [],
   "source": [
    "train_prop = 1 # pas de test\n",
    "seed = 42\n",
    "results = {}\n",
    "# baseline\n",
    "k1 = 2\n",
    "b = 0.95\n",
    "# cluster\n",
    "\n",
    "# greedy\n",
    "alpha = 0.75"
   ]
  },
  {
   "cell_type": "code",
   "execution_count": null,
   "metadata": {},
   "outputs": [],
   "source": [
    "index = Index(index_name, data_path+'/easyCLEF08_text.txt', index_path=index_path)\n",
    "#index.indexation()\n",
    "weighter2 = WeighterVector(index)\n",
    "#weighter2.calculeNorms()\n",
    "weighter3 = WeighterSchema3(index)\n",
    "#weighter3.calculeNorms()\n",
    "baseline = BM25Model(weighter2)\n",
    "cluster = ClusteringDiversifier(index)\n",
    "greedyMMR = GreedyRankingMMR(index)\n",
    "randomRank = RandomDiversifier(seed)"
   ]
  },
  {
   "cell_type": "code",
   "execution_count": null,
   "metadata": {},
   "outputs": [],
   "source": [
    "documents_to_order = 20 \n",
    "results['baseline'] = eval_ir.evalModel(baseline,\n",
    "                                        ranking_call =lambda m,q : m.getRanking(q, k1=k1, b=b),\n",
    "                                        train_prop=train_prop, seed=seed, mode='train')\n",
    "wrap_cluster = lambda m, q, cluster=cluster: cluster.diversify(m.getRanking(q, k1=k1, b=b),\n",
    "                                                              by_top_n=100, n_clusters=20)[0].values\n",
    "results['cluster'] = eval_ir.evalModel(baseline, ranking_call=wrap_cluster,\n",
    "                                      train_prop=train_prop, seed=seed, mode='train')\n",
    "\n",
    "wrap_greedy = lambda m, q, greedy=greedyMMR: greedy.diversify(q, m.getRanking(q, k1=k1, b=b), \n",
    "                                                              doc_limit=100, order_n=documents_to_order, alpha=alpha)\n",
    "\n",
    "results['greedy'] = eval_ir.evalModel(baseline, ranking_call=wrap_greedy,\n",
    "                                      train_prop=train_prop, seed=seed, mode='train')\n",
    "\n",
    "wrap_random = lambda m, q, random_=randomRank: random_.diversify(m.getRanking(q, k1=k1, b=b),\n",
    "                                                                doc_limit=100, order_n=documents_to_order)\n",
    "results['random'] = eval_ir.evalModel(baseline, ranking_call=wrap_random,\n",
    "                                     train_prop=train_prop, seed=seed, mode='train')"
   ]
  },
  {
   "cell_type": "code",
   "execution_count": null,
   "metadata": {},
   "outputs": [],
   "source": [
    "fig = plt.figure()\n",
    "\n",
    "ax1 = fig.add_subplot(1, 1, 1)\n",
    "plt.title('Precision @ 20')\n",
    "\n",
    "ax1.bar(1, results['baseline']['precision_at_20'], yerr=results['baseline']['precision_at_20_std'], capsize=4)\n",
    "ax1.bar(2, results['random']['precision_at_20'], yerr=results['random']['precision_at_20_std'], capsize=4)\n",
    "ax1.bar(3, results['greedy']['precision_at_20'], yerr=results['greedy']['precision_at_20_std'], capsize=4)\n",
    "ax1.bar(4, results['cluster']['precision_at_20'], yerr=results['cluster']['precision_at_20_std'], capsize=4)\n",
    "fig.legend(['Baseline', 'Mélange aléatoire' , 'Algorithme glouton', 'Clustering'])\n",
    "plt.ylim(0.25, 0.75)\n",
    "plt.ylabel('Precision')\n",
    "plt.savefig('comparaison_des_methods_100_doc_precision')"
   ]
  },
  {
   "cell_type": "code",
   "execution_count": null,
   "metadata": {},
   "outputs": [],
   "source": [
    "fig = plt.figure()\n",
    "\n",
    "ax1 = fig.add_subplot(1, 1, 1)\n",
    "plt.title('Cluster Recall @ 20')\n",
    "\n",
    "ax1.bar(1, results['baseline']['cluster_recall_at_20'], yerr=results['baseline']['cluster_recall_at_20_std'], capsize=4)\n",
    "ax1.bar(2, results['random']['cluster_recall_at_20'], yerr=results['random']['cluster_recall_at_20_std'], capsize=4)\n",
    "ax1.bar(3, results['greedy']['cluster_recall_at_20'], yerr=results['greedy']['cluster_recall_at_20_std'], capsize=4)\n",
    "ax1.bar(4, results['cluster']['cluster_recall_at_20'], yerr=results['cluster']['cluster_recall_at_20_std'], capsize=4)\n",
    "fig.legend(['Baseline', 'Mélange aléatoire' , 'Algorithme glouton', 'Clustering'])\n",
    "plt.ylim(0.25, 0.75)\n",
    "plt.ylabel('CR')\n",
    "plt.savefig('comparaison_des_methods_100_doc_cluster_recall')"
   ]
  },
  {
   "cell_type": "code",
   "execution_count": null,
   "metadata": {},
   "outputs": [],
   "source": [
    "results['cluster']['cluster_recall_at_20']"
   ]
  }
 ],
 "metadata": {
  "kernelspec": {
   "display_name": "Python 3",
   "language": "python",
   "name": "python3"
  },
  "language_info": {
   "codemirror_mode": {
    "name": "ipython",
    "version": 3
   },
   "file_extension": ".py",
   "mimetype": "text/x-python",
   "name": "python",
   "nbconvert_exporter": "python",
   "pygments_lexer": "ipython3",
   "version": "3.6.5"
  }
 },
 "nbformat": 4,
 "nbformat_minor": 2
}
