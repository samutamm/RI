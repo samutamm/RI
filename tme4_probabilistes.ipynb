{
 "cells": [
  {
   "cell_type": "code",
   "execution_count": null,
   "metadata": {},
   "outputs": [],
   "source": [
    "import pickle\n",
    "from matplotlib import pyplot as plt\n",
    "\n",
    "from TextRepresenter import PorterStemmer\n",
    "from Index import Index\n",
    "from Weighter import *\n",
    "from IRModel import *\n",
    "from EvalIRModel import *\n",
    "from GridSearch import GridSearch"
   ]
  },
  {
   "cell_type": "code",
   "execution_count": null,
   "metadata": {},
   "outputs": [],
   "source": [
    "index = Index(\"cisi\", \"cisi/cisi.txt\")\n",
    "#index.indexation()\n",
    "weighter = WeighterVector(index)\n",
    "weighter.calculeNorms()\n",
    "\n",
    "prepend = '_cisi_w2.pickle'"
   ]
  },
  {
   "cell_type": "code",
   "execution_count": null,
   "metadata": {},
   "outputs": [],
   "source": [
    "query_text = 'graph exploration'\n",
    "ps = PorterStemmer()\n",
    "query = ps.getTextRepresentation(query_text)\n",
    "eval_irm = EvalIRModel('cisi/cisi.qry', 'cisi/cisi.rel')"
   ]
  },
  {
   "cell_type": "markdown",
   "metadata": {},
   "source": [
    "# 1. Modèle de langue"
   ]
  },
  {
   "cell_type": "code",
   "execution_count": null,
   "metadata": {},
   "outputs": [],
   "source": [
    "language_model = LanguageModel(weighter)"
   ]
  },
  {
   "cell_type": "code",
   "execution_count": null,
   "metadata": {},
   "outputs": [],
   "source": [
    "scores, score_absent = language_model.getScores(query, 0.01)\n",
    "print(scores, score_absent)"
   ]
  },
  {
   "cell_type": "code",
   "execution_count": null,
   "metadata": {},
   "outputs": [],
   "source": [
    "language_model.getRanking(query_text, lambd=0.009)[:10]"
   ]
  },
  {
   "cell_type": "code",
   "execution_count": null,
   "metadata": {},
   "outputs": [],
   "source": [
    "results = eval_irm.evalModel(language_model, ranking_call = lambda m, text: m.getRanking(text, lambd=1))\n",
    "results"
   ]
  },
  {
   "cell_type": "code",
   "execution_count": null,
   "metadata": {},
   "outputs": [],
   "source": [
    "results = eval_irm.evalModel(language_model, ranking_call = lambda m, text: m.getRanking(text, lambd=0.01))\n",
    "results"
   ]
  },
  {
   "cell_type": "code",
   "execution_count": null,
   "metadata": {},
   "outputs": [],
   "source": [
    "results = eval_irm.evalModel(language_model, ranking_call = lambda m, text: m.getRanking(text, lambd=0))\n",
    "results"
   ]
  },
  {
   "cell_type": "markdown",
   "metadata": {},
   "source": [
    "# 2. Modèle BM25"
   ]
  },
  {
   "cell_type": "code",
   "execution_count": null,
   "metadata": {},
   "outputs": [],
   "source": [
    "bm25_model = BM25Model(weighter)"
   ]
  },
  {
   "cell_type": "code",
   "execution_count": null,
   "metadata": {},
   "outputs": [],
   "source": [
    "scores = bm25_model.getScores(query)\n",
    "print(scores)"
   ]
  },
  {
   "cell_type": "code",
   "execution_count": null,
   "metadata": {},
   "outputs": [],
   "source": [
    "bm25_model.getRanking(query_text)[:10]"
   ]
  },
  {
   "cell_type": "code",
   "execution_count": null,
   "metadata": {},
   "outputs": [],
   "source": [
    "results = eval_irm.evalModel(bm25_model, ranking_call = lambda m, text: m.getRanking(text))\n",
    "results"
   ]
  },
  {
   "cell_type": "markdown",
   "metadata": {},
   "source": [
    "# 3. Optimisation des paramètres\n",
    "## 3.1 Language Model"
   ]
  },
  {
   "cell_type": "code",
   "execution_count": null,
   "metadata": {},
   "outputs": [],
   "source": [
    "lambda_values = np.geomspace(1e-5, 1, 100)"
   ]
  },
  {
   "cell_type": "code",
   "execution_count": null,
   "metadata": {},
   "outputs": [],
   "source": [
    "search = GridSearch(param_a_name=\"lambd\", param_a_values=lambda_values)\n",
    "results = search.search(language_model, train_prop=0.8, seed=42)\n",
    "lang_results = np.array(results)"
   ]
  },
  {
   "cell_type": "code",
   "execution_count": null,
   "metadata": {},
   "outputs": [],
   "source": [
    "with open('models/lang_results'+prepend, 'wb') as f:\n",
    "    pickle.dump(lang_results, f, protocol=4)"
   ]
  },
  {
   "cell_type": "code",
   "execution_count": null,
   "metadata": {},
   "outputs": [],
   "source": [
    "with open('models/lang_results'+prepend, 'rb') as f:\n",
    "    lang_results = pickle.load(f)"
   ]
  },
  {
   "cell_type": "code",
   "execution_count": null,
   "metadata": {},
   "outputs": [],
   "source": [
    "#lambda_values = np.linspace(0,1,100)\n",
    "lambda_values = np.geomspace(1e-5, 1, 100)\n",
    "plt.title(\"Modéle de langue - GridSearch\")\n",
    "plt.plot(lambda_values, lang_results[:,1])\n",
    "plt.xlabel(\"Lambda\")\n",
    "plt.xticks(lambda_values, rotation='vertical');"
   ]
  },
  {
   "cell_type": "markdown",
   "metadata": {},
   "source": [
    "## 3.2 BM25 Model"
   ]
  },
  {
   "cell_type": "code",
   "execution_count": null,
   "metadata": {},
   "outputs": [],
   "source": [
    "param_a_values = np.linspace(1, 2, 20)\n",
    "param_b_values = list(np.linspace(0.5, 1, 20))"
   ]
  },
  {
   "cell_type": "code",
   "execution_count": null,
   "metadata": {},
   "outputs": [],
   "source": [
    "search = GridSearch(param_a_name=\"k1\", param_a_values=param_a_values, param_b_name=\"b\", param_b_values=param_b_values)\n",
    "results = search.search(bm25_model, train_prop=0.8, seed=42)\n",
    "bm25_results = np.array(results)\n",
    "bm25_results"
   ]
  },
  {
   "cell_type": "code",
   "execution_count": null,
   "metadata": {},
   "outputs": [],
   "source": [
    "with open('models/bm25_results'+prepend, 'wb') as f:\n",
    "    pickle.dump(bm25_results, f, protocol=4)"
   ]
  },
  {
   "cell_type": "code",
   "execution_count": null,
   "metadata": {},
   "outputs": [],
   "source": [
    "with open('models/bm25_results'+prepend, 'rb') as f:\n",
    "    bm25_results = pickle.load(f)"
   ]
  },
  {
   "cell_type": "code",
   "execution_count": null,
   "metadata": {},
   "outputs": [],
   "source": [
    "bm25_matrix = np.array(bm25_results[:, 1].reshape(20, 20), dtype=np.float)\n",
    "# k1 : ligne, b : colonnes\n",
    "idx = np.argmax(bm25_matrix)\n",
    "print(param_a_values[idx//20], param_b_values[idx%20], np.max(bm25_matrix))"
   ]
  },
  {
   "cell_type": "code",
   "execution_count": null,
   "metadata": {},
   "outputs": [],
   "source": [
    "fig, ax = plt.subplots()\n",
    "im = ax.imshow(bm25_matrix)\n",
    "# We want to show all ticks...\n",
    "ax.set_xticks(np.arange(len(param_b_values)))\n",
    "ax.set_yticks(np.arange(len(param_a_values)))\n",
    "# ... and label them with the respective list entries\n",
    "ax.set_xticklabels(['{:.2f}'.format(k1v) for k1v in param_b_values])\n",
    "ax.set_yticklabels(['{:.2f}'.format(k1v) for k1v in param_a_values])\n",
    "\n",
    "# Rotate the tick labels and set their alignment.\n",
    "#plt.setp(ax.get_xticklabels(), rotation=45, ha=\"right\",\n",
    "#         rotation_mode=\"anchor\")\n",
    "\n",
    "# Loop over data dimensions and create text annotations.\n",
    "#for i in range(len(param_a_values)):\n",
    "#    for j in range(len(param_b_values)):\n",
    "#        text = ax.text(j, i, bm25_matrix[i, j],\n",
    "#                       ha=\"center\", va=\"center\", color=\"w\")\n",
    "\n",
    "ax.set_title(\"bm25 accuracy\")\n",
    "#fmt = StrMethodFormatter('{x}')\n",
    "#ax.yaxis.set_major_formatter(fmt)\n",
    "\n",
    "fig.tight_layout()\n",
    "plt.show()"
   ]
  },
  {
   "cell_type": "code",
   "execution_count": null,
   "metadata": {},
   "outputs": [],
   "source": []
  }
 ],
 "metadata": {
  "kernelspec": {
   "display_name": "Python 3",
   "language": "python",
   "name": "python3"
  },
  "language_info": {
   "codemirror_mode": {
    "name": "ipython",
    "version": 3
   },
   "file_extension": ".py",
   "mimetype": "text/x-python",
   "name": "python",
   "nbconvert_exporter": "python",
   "pygments_lexer": "ipython3",
   "version": "3.6.7"
  }
 },
 "nbformat": 4,
 "nbformat_minor": 2
}
