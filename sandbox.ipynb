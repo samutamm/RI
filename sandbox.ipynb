{
 "cells": [
  {
   "cell_type": "code",
   "execution_count": null,
   "metadata": {},
   "outputs": [],
   "source": [
    "from Document import Document\n",
    "from ParserCACM import ParserCACM\n",
    "from ParserQuery import QueryParser\n",
    "from porter import stem\n",
    "from TextRepresenter import PorterStemmer\n",
    "import pickle\n",
    "import numpy as np\n",
    "import pandas as pd\n",
    "\n",
    "%load_ext autoreload\n",
    "%autoreload 2\n",
    "\n",
    "from Index import Index, InvertedIndexPlaces\n",
    "from Weighter import WeighterBoolean\n",
    "from EvalIRModel import EvalIRModel\n",
    "\n",
    "from Index import Index, InvertedIndexPlaces\n",
    "from Weighter import WeighterBoolean, WeighterVector\n",
    "from IRModel import Vectoriel, LanguageModel, BM25Model"
   ]
  },
  {
   "cell_type": "code",
   "execution_count": null,
   "metadata": {},
   "outputs": [],
   "source": [
    "index = Index(\"cacm\", \"cacm/cacm.txt\")\n",
    "#index.indexation()\n",
    "weighter = WeighterVector(index)\n",
    "#weighter.calculeNorms()\n",
    "#model = Vectoriel(weighter)\n",
    "bm25_model = BM25Model(weighter)\n",
    "language_model = LanguageModel(weighter)"
   ]
  },
  {
   "cell_type": "code",
   "execution_count": null,
   "metadata": {},
   "outputs": [],
   "source": [
    "#EvalIRModel().evalModel(model) \n",
    "# TODO visualisation\n",
    "language_model.getRanking('computer science', lambd=0.1)"
   ]
  },
  {
   "cell_type": "code",
   "execution_count": null,
   "metadata": {},
   "outputs": [],
   "source": []
  }
 ],
 "metadata": {
  "kernelspec": {
   "display_name": "Python 3",
   "language": "python",
   "name": "python3"
  },
  "language_info": {
   "codemirror_mode": {
    "name": "ipython",
    "version": 3
   },
   "file_extension": ".py",
   "mimetype": "text/x-python",
   "name": "python",
   "nbconvert_exporter": "python",
   "pygments_lexer": "ipython3",
   "version": "3.5.3"
  }
 },
 "nbformat": 4,
 "nbformat_minor": 2
}
