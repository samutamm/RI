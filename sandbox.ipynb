{
 "cells": [
  {
   "cell_type": "code",
   "execution_count": 20,
   "metadata": {},
   "outputs": [
    {
     "name": "stdout",
     "output_type": "stream",
     "text": [
      "The autoreload extension is already loaded. To reload it, use:\n",
      "  %reload_ext autoreload\n"
     ]
    }
   ],
   "source": [
    "from Document import Document\n",
    "from ParserCACM import ParserCACM\n",
    "from ParserQuery import QueryParser\n",
    "from porter import stem\n",
    "from TextRepresenter import PorterStemmer\n",
    "import pickle\n",
    "import numpy as np\n",
    "import pandas as pd\n",
    "\n",
    "%load_ext autoreload\n",
    "%autoreload 2\n",
    "\n",
    "from EvalIRModel import EvalIRModel\n",
    "from Index import Index, InvertedIndexPlaces\n",
    "from Weighter import WeighterBoolean, WeighterVector\n",
    "from IRModel import Vectoriel, LanguageModel, BM25Model"
   ]
  },
  {
   "cell_type": "code",
   "execution_count": 21,
   "metadata": {},
   "outputs": [],
   "source": [
    "index = Index(\"cacm\", \"cacm/cacm.txt\")\n",
    "#index.indexation()\n",
    "#weighter = WeighterVector(index)\n",
    "#weighter.calculeNorms()\n",
    "#model = Vectoriel(weighter)\n",
    "#bm25_model = BM25Model(weighter)\n",
    "#language_model = LanguageModel(weighter)"
   ]
  },
  {
   "cell_type": "code",
   "execution_count": null,
   "metadata": {},
   "outputs": [],
   "source": [
    "EvalIRModel().evalModel(language_model)\n",
    "# TODO visualisation\n",
    "#language_model.getRanking('computer science', lambd=0.1)"
   ]
  },
  {
   "cell_type": "code",
   "execution_count": 16,
   "metadata": {},
   "outputs": [],
   "source": [
    "from RandomWalk import PageRank2, create_dico_graph\n",
    "from scipy.sparse import csc_matrix\n",
    "\n"
   ]
  },
  {
   "cell_type": "code",
   "execution_count": 38,
   "metadata": {},
   "outputs": [],
   "source": [
    "I = []\n",
    "J = []\n",
    "#V = []\n",
    "doc_ids = index.getDocIds()\n",
    "for i in doc_ids:\n",
    "    for j in index.getLinksForDoc(i):\n",
    "        I.append(int(i)) # link sortent \n",
    "        J.append(int(j)) # link entrent\n",
    "\n",
    "I = np.array(I)\n",
    "J = np.array(J)\n",
    "V = np.ones(I.shape[0])\n",
    "n = I.max() + 1\n",
    "m = n\n",
    "A = csc_matrix((V,(I,J)),shape=(n,m))"
   ]
  },
  {
   "cell_type": "code",
   "execution_count": 40,
   "metadata": {},
   "outputs": [
    {
     "data": {
      "text/plain": [
       "array([8.30710727e-06, 5.42535260e-04, 8.35591843e-06, ...,\n",
       "       8.30710727e-06, 8.30710727e-06, 8.30710727e-06])"
      ]
     },
     "execution_count": 40,
     "metadata": {},
     "output_type": "execute_result"
    }
   ],
   "source": [
    "rw = PageRank2(A)\n",
    "\n",
    "rw.compute_mus(10)"
   ]
  }
 ],
 "metadata": {
  "kernelspec": {
   "display_name": "Python 3",
   "language": "python",
   "name": "python3"
  },
  "language_info": {
   "codemirror_mode": {
    "name": "ipython",
    "version": 3
   },
   "file_extension": ".py",
   "mimetype": "text/x-python",
   "name": "python",
   "nbconvert_exporter": "python",
   "pygments_lexer": "ipython3",
   "version": "3.6.5"
  }
 },
 "nbformat": 4,
 "nbformat_minor": 2
}
