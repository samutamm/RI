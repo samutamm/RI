{
 "cells": [
  {
   "cell_type": "code",
   "execution_count": null,
   "metadata": {},
   "outputs": [],
   "source": [
    "import numpy as np\n",
    "import pandas as pd\n",
    "import pickle\n",
    "import matplotlib.pyplot as plt\n",
    "from matplotlib.ticker import StrMethodFormatter\n",
    "\n",
    "%load_ext autoreload\n",
    "%autoreload 2\n",
    "%matplotlib notebook\n",
    "\n",
    "from Index import Index\n",
    "from Weighter import WeighterVector\n",
    "from IRModel import Vectoriel, LanguageModel, BM25Model\n",
    "from GridSearch import GridSearch"
   ]
  },
  {
   "cell_type": "code",
   "execution_count": null,
   "metadata": {},
   "outputs": [],
   "source": [
    "index = Index(\"cisi\", \"cisi/cisi.txt\")\n",
    "#index.indexation()\n",
    "weighter.calculeNorms()\n",
    "weighter = WeighterVector(index)\n",
    "#model = Vectoriel(weighter)\n",
    "bm25_model = BM25Model(weighter)\n",
    "language_model = LanguageModel(weighter)"
   ]
  },
  {
   "cell_type": "code",
   "execution_count": null,
   "metadata": {},
   "outputs": [],
   "source": [
    "search = GridSearch(param_a_name=\"k1\", param_a_values=[1.625,1.75,1.875,2], param_b_name=\"b\", param_b_values=[0.65,0.75,0.85, 0.95, 1])\n",
    "results = search.search(bm25_model)\n",
    "bm25_results = np.array(results)"
   ]
  },
  {
   "cell_type": "code",
   "execution_count": null,
   "metadata": {},
   "outputs": [],
   "source": [
    "param_a_values = np.linspace(1, 2, 20)\n",
    "param_b_values = list(np.linspace(0.5, 1, 20))"
   ]
  },
  {
   "cell_type": "code",
   "execution_count": null,
   "metadata": {},
   "outputs": [],
   "source": [
    "search = GridSearch(param_a_name=\"k1\", param_a_values=param_a_values, param_b_name=\"b\", param_b_values=param_b_values)\n",
    "results = search.search(bm25_model)\n",
    "bm25_results = np.array(results)"
   ]
  },
  {
   "cell_type": "code",
   "execution_count": null,
   "metadata": {},
   "outputs": [],
   "source": [
    "bm25_results"
   ]
  },
  {
   "cell_type": "code",
   "execution_count": null,
   "metadata": {},
   "outputs": [],
   "source": [
    "with open('sauvegardes/bm25_results_cisi.pickle', 'wb') as f:\n",
    "    pickle.dump(bm25_results, f, protocol=4)"
   ]
  },
  {
   "cell_type": "code",
   "execution_count": null,
   "metadata": {},
   "outputs": [],
   "source": [
    "bm25_matrix = np.array(bm25_results[:, 1].reshape(20, 20), dtype=np.float)\n",
    "# k1 : ligne, b : colonnes"
   ]
  },
  {
   "cell_type": "code",
   "execution_count": null,
   "metadata": {},
   "outputs": [],
   "source": [
    "idx = np.argmax(bm25_matrix)\n",
    "print(param_a_values[idx//20], param_b_values[idx%20], np.max(bm25_matrix))"
   ]
  },
  {
   "cell_type": "code",
   "execution_count": null,
   "metadata": {},
   "outputs": [],
   "source": [
    "fig, ax = plt.subplots()\n",
    "im = ax.imshow(bm25_matrix)\n",
    "# We want to show all ticks...\n",
    "ax.set_xticks(np.arange(len(param_b_values)))\n",
    "ax.set_yticks(np.arange(len(param_a_values)))\n",
    "# ... and label them with the respective list entries\n",
    "ax.set_xticklabels(['{:.2f}'.format(k1v) for k1v in param_b_values])\n",
    "ax.set_yticklabels(['{:.2f}'.format(k1v) for k1v in param_a_values])\n",
    "\n",
    "# Rotate the tick labels and set their alignment.\n",
    "#plt.setp(ax.get_xticklabels(), rotation=45, ha=\"right\",\n",
    "#         rotation_mode=\"anchor\")\n",
    "\n",
    "# Loop over data dimensions and create text annotations.\n",
    "#for i in range(len(param_a_values)):\n",
    "#    for j in range(len(param_b_values)):\n",
    "#        text = ax.text(j, i, bm25_matrix[i, j],\n",
    "#                       ha=\"center\", va=\"center\", color=\"w\")\n",
    "\n",
    "ax.set_title(\"bm25_matrix of local param_b_values (in tons/year)\")\n",
    "#fmt = StrMethodFormatter('{x}')\n",
    "#ax.yaxis.set_major_formatter(fmt)\n",
    "\n",
    "fig.tight_layout()\n",
    "plt.show()\n"
   ]
  },
  {
   "cell_type": "code",
   "execution_count": null,
   "metadata": {
    "scrolled": true
   },
   "outputs": [],
   "source": [
    "x_ax = np.arange(bm25_results.shape[0])\n",
    "plt.title(\"BM25 GridSearch\")\n",
    "plt.plot(x_ax, bm25_results[:,1])\n",
    "plt.xticks(x_ax,[str(d) for d in bm25_results[:,0]], rotation='vertical');"
   ]
  },
  {
   "cell_type": "markdown",
   "metadata": {},
   "source": [
    "Pour le modéle BM25 les meilleurs paramètres cemblent d'être k1=2 et b=0.95. On a utilisé precion moyenne comme metrique."
   ]
  },
  {
   "cell_type": "code",
   "execution_count": null,
   "metadata": {},
   "outputs": [],
   "source": [
    "lambda_values = np.linspace(0,1,20)\n",
    "search = GridSearch(param_a_name=\"lambd\", param_a_values=lambda_values)\n",
    "results = search.search(language_model)\n",
    "lang_results = np.array(results)"
   ]
  },
  {
   "cell_type": "code",
   "execution_count": null,
   "metadata": {},
   "outputs": [],
   "source": [
    "lambda_values = np.linspace(0,1,20)\n",
    "plt.title(\"Modéle de langue - GridSearch\")\n",
    "plt.plot(lambda_values, lang_results[:,1])\n",
    "plt.xlabel(\"Lambda\")\n",
    "plt.xticks(lambda_values, rotation='vertical');"
   ]
  },
  {
   "cell_type": "markdown",
   "metadata": {},
   "source": [
    "Pour modéle de langue, le meilleur valeur de lambda est soit 0, soit 1"
   ]
  }
 ],
 "metadata": {
  "kernelspec": {
   "display_name": "Python 3",
   "language": "python",
   "name": "python3"
  },
  "language_info": {
   "codemirror_mode": {
    "name": "ipython",
    "version": 3
   },
   "file_extension": ".py",
   "mimetype": "text/x-python",
   "name": "python",
   "nbconvert_exporter": "python",
   "pygments_lexer": "ipython3",
   "version": "3.6.7"
  }
 },
 "nbformat": 4,
 "nbformat_minor": 2
}
