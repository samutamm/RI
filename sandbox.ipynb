{
 "cells": [
  {
   "cell_type": "code",
   "execution_count": 1,
   "metadata": {},
   "outputs": [],
   "source": [
    "from Document import Document\n",
    "from ParserCACM import ParserCACM\n",
    "from ParserQuery import QueryParser\n",
    "from porter import stem\n",
    "from TextRepresenter import PorterStemmer\n",
    "import pickle\n",
    "import numpy as np\n",
    "import pandas as pd\n",
    "\n",
    "%load_ext autoreload\n",
    "%autoreload 2\n",
    "\n"
   ]
  },
  {
   "cell_type": "code",
   "execution_count": 6,
   "metadata": {
    "scrolled": true
   },
   "outputs": [
    {
     "name": "stdout",
     "output_type": "stream",
     "text": [
      "> /home/samutamm/Documents/Study/Sorbonne/RI/RI/Evaluation.py(46)calcule_stats()\n",
      "-> return table, relevants_N\n",
      "(Pdb) table\n",
      "      doc_id     score  pertinent  true_positive  precision    rappel\n",
      "0       1938  0.033594      False              0   0.000000  0.000000\n",
      "1       2319  0.032889       True              1   0.500000  0.001802\n",
      "2       2371  0.031420       True              2   0.666667  0.003604\n",
      "3       1071  0.027494       True              3   0.750000  0.005405\n",
      "4       3068  0.027299       True              4   0.800000  0.007207\n",
      "5       1657  0.027159      False              4   0.666667  0.007207\n",
      "6       2036  0.027104      False              4   0.571429  0.007207\n",
      "7        971  0.025221      False              4   0.500000  0.007207\n",
      "8       1680  0.025216      False              4   0.444444  0.007207\n",
      "9       2379  0.024586       True              5   0.500000  0.009009\n",
      "10      1572  0.024417       True              6   0.545455  0.010811\n",
      "11      2950  0.024391      False              6   0.500000  0.010811\n",
      "12      2629  0.023289       True              7   0.538462  0.012613\n",
      "13      2069  0.023245       True              8   0.571429  0.014414\n",
      "14      2218  0.022877       True              9   0.600000  0.016216\n",
      "15      1735  0.022604      False              9   0.562500  0.016216\n",
      "16      1461  0.022496      False              9   0.529412  0.016216\n",
      "17      2378  0.022264       True             10   0.555556  0.018018\n",
      "18      2632  0.022178       True             11   0.578947  0.019820\n",
      "19      1752  0.021617       True             12   0.600000  0.021622\n",
      "20      1591  0.021481      False             12   0.571429  0.021622\n",
      "21      2621  0.021404      False             12   0.545455  0.021622\n",
      "22      1069  0.021195       True             13   0.565217  0.023423\n",
      "23        69  0.021096      False             13   0.541667  0.023423\n",
      "24       163  0.020998      False             13   0.520000  0.023423\n",
      "25      2535  0.020921       True             14   0.538462  0.025225\n",
      "26      2320  0.020578       True             15   0.555556  0.027027\n",
      "27      2951  0.020374       True             16   0.571429  0.028829\n",
      "28      1908  0.020306      False             16   0.551724  0.028829\n",
      "29      2740  0.020192       True             17   0.566667  0.030631\n",
      "...      ...       ...        ...            ...        ...       ...\n",
      "4173    3923  0.000000      False            555   0.132966  1.000000\n",
      "4174    3927  0.000000      False            555   0.132934  1.000000\n",
      "4175    3935  0.000000      False            555   0.132902  1.000000\n",
      "4176    3943  0.000000      False            555   0.132870  1.000000\n",
      "4177    3959  0.000000      False            555   0.132839  1.000000\n",
      "4178    3965  0.000000      False            555   0.132807  1.000000\n",
      "4179    3968  0.000000      False            555   0.132775  1.000000\n",
      "4180    3976  0.000000      False            555   0.132743  1.000000\n",
      "4181    3990  0.000000      False            555   0.132712  1.000000\n",
      "4182    3992  0.000000      False            555   0.132680  1.000000\n",
      "4183    4001  0.000000      False            555   0.132648  1.000000\n",
      "4184    4008  0.000000      False            555   0.132616  1.000000\n",
      "4185    4012  0.000000      False            555   0.132585  1.000000\n",
      "4186    4018  0.000000      False            555   0.132553  1.000000\n",
      "4187    4019  0.000000      False            555   0.132521  1.000000\n",
      "4188    4020  0.000000      False            555   0.132490  1.000000\n",
      "4189    4028  0.000000      False            555   0.132458  1.000000\n",
      "4190    4032  0.000000      False            555   0.132427  1.000000\n",
      "4191    4037  0.000000      False            555   0.132395  1.000000\n",
      "4192    4038  0.000000      False            555   0.132363  1.000000\n",
      "4193    4055  0.000000      False            555   0.132332  1.000000\n",
      "4194    4061  0.000000      False            555   0.132300  1.000000\n",
      "4195    4100  0.000000      False            555   0.132269  1.000000\n",
      "4196    4104  0.000000      False            555   0.132237  1.000000\n",
      "4197    4114  0.000000      False            555   0.132206  1.000000\n",
      "4198    4117  0.000000      False            555   0.132174  1.000000\n",
      "4199    4144  0.000000      False            555   0.132143  1.000000\n",
      "4200    4145  0.000000      False            555   0.132111  1.000000\n",
      "4201    4149  0.000000      False            555   0.132080  1.000000\n",
      "4202    4151  0.000000      False            555   0.132049  1.000000\n",
      "\n",
      "[4203 rows x 6 columns]\n",
      "(Pdb) exit\n"
     ]
    },
    {
     "ename": "BdbQuit",
     "evalue": "",
     "output_type": "error",
     "traceback": [
      "\u001b[0;31m---------------------------------------------------------------------------\u001b[0m",
      "\u001b[0;31mBdbQuit\u001b[0m                                   Traceback (most recent call last)",
      "\u001b[0;32m<ipython-input-6-4545ad12ed2a>\u001b[0m in \u001b[0;36m<module>\u001b[0;34m()\u001b[0m\n\u001b[1;32m     14\u001b[0m \u001b[0mmodel\u001b[0m \u001b[0;34m=\u001b[0m \u001b[0mVectoriel\u001b[0m\u001b[0;34m(\u001b[0m\u001b[0mweighter\u001b[0m\u001b[0;34m)\u001b[0m\u001b[0;34m\u001b[0m\u001b[0m\n\u001b[1;32m     15\u001b[0m \u001b[0;34m\u001b[0m\u001b[0m\n\u001b[0;32m---> 16\u001b[0;31m \u001b[0mEvalIRModel\u001b[0m\u001b[0;34m(\u001b[0m\u001b[0;34m)\u001b[0m\u001b[0;34m.\u001b[0m\u001b[0mevalModel\u001b[0m\u001b[0;34m(\u001b[0m\u001b[0mmodel\u001b[0m\u001b[0;34m)\u001b[0m\u001b[0;34m\u001b[0m\u001b[0m\n\u001b[0m",
      "\u001b[0;32m~/Documents/Study/Sorbonne/RI/RI/EvalIRModel.py\u001b[0m in \u001b[0;36mevalModel\u001b[0;34m(self, model)\u001b[0m\n\u001b[1;32m     23\u001b[0m \u001b[0;34m\u001b[0m\u001b[0m\n\u001b[1;32m     24\u001b[0m             \u001b[0;31m#precision_recalls.append(self.precision_recall.eval(irlist)) # TODO fix nulls before\u001b[0m\u001b[0;34m\u001b[0m\u001b[0;34m\u001b[0m\u001b[0m\n\u001b[0;32m---> 25\u001b[0;31m             \u001b[0mprecision_means\u001b[0m\u001b[0;34m.\u001b[0m\u001b[0mappend\u001b[0m\u001b[0;34m(\u001b[0m\u001b[0mself\u001b[0m\u001b[0;34m.\u001b[0m\u001b[0mprecision_mean\u001b[0m\u001b[0;34m.\u001b[0m\u001b[0meval\u001b[0m\u001b[0;34m(\u001b[0m\u001b[0mirlist\u001b[0m\u001b[0;34m)\u001b[0m\u001b[0;34m)\u001b[0m\u001b[0;34m\u001b[0m\u001b[0m\n\u001b[0m\u001b[1;32m     26\u001b[0m \u001b[0;34m\u001b[0m\u001b[0m\n\u001b[1;32m     27\u001b[0m             \u001b[0mquery\u001b[0m \u001b[0;34m=\u001b[0m \u001b[0mself\u001b[0m\u001b[0;34m.\u001b[0m\u001b[0mquery_parser\u001b[0m\u001b[0;34m.\u001b[0m\u001b[0mnextQuery\u001b[0m\u001b[0;34m(\u001b[0m\u001b[0;34m)\u001b[0m\u001b[0;34m\u001b[0m\u001b[0m\n",
      "\u001b[0;32m~/Documents/Study/Sorbonne/RI/RI/Evaluation.py\u001b[0m in \u001b[0;36meval\u001b[0;34m(self, ir_list)\u001b[0m\n\u001b[1;32m     62\u001b[0m \u001b[0;34m\u001b[0m\u001b[0m\n\u001b[1;32m     63\u001b[0m     \u001b[0;32mdef\u001b[0m \u001b[0meval\u001b[0m\u001b[0;34m(\u001b[0m\u001b[0mself\u001b[0m\u001b[0;34m,\u001b[0m \u001b[0mir_list\u001b[0m\u001b[0;34m)\u001b[0m\u001b[0;34m:\u001b[0m\u001b[0;34m\u001b[0m\u001b[0m\n\u001b[0;32m---> 64\u001b[0;31m         \u001b[0mtable\u001b[0m\u001b[0;34m,\u001b[0m \u001b[0mrelevants_N\u001b[0m \u001b[0;34m=\u001b[0m \u001b[0mself\u001b[0m\u001b[0;34m.\u001b[0m\u001b[0mcalcule_stats\u001b[0m\u001b[0;34m(\u001b[0m\u001b[0mir_list\u001b[0m\u001b[0;34m)\u001b[0m \u001b[0;31m# call parent\u001b[0m\u001b[0;34m\u001b[0m\u001b[0m\n\u001b[0m\u001b[1;32m     65\u001b[0m         \u001b[0mfiltered_table\u001b[0m \u001b[0;34m=\u001b[0m \u001b[0mtable\u001b[0m\u001b[0;34m[\u001b[0m\u001b[0mtable\u001b[0m\u001b[0;34m.\u001b[0m\u001b[0mpertinent\u001b[0m \u001b[0;34m==\u001b[0m \u001b[0;32mTrue\u001b[0m\u001b[0;34m]\u001b[0m\u001b[0;34m\u001b[0m\u001b[0m\n\u001b[1;32m     66\u001b[0m         \u001b[0;32mreturn\u001b[0m \u001b[0mfiltered_table\u001b[0m\u001b[0;34m.\u001b[0m\u001b[0mprecision\u001b[0m\u001b[0;34m.\u001b[0m\u001b[0msum\u001b[0m\u001b[0;34m(\u001b[0m\u001b[0;34m)\u001b[0m \u001b[0;34m/\u001b[0m \u001b[0mrelevants_N\u001b[0m\u001b[0;34m\u001b[0m\u001b[0m\n",
      "\u001b[0;32m~/Documents/Study/Sorbonne/RI/RI/Evaluation.py\u001b[0m in \u001b[0;36mcalcule_stats\u001b[0;34m(self, ir_list)\u001b[0m\n\u001b[1;32m     44\u001b[0m         \u001b[0;32mimport\u001b[0m \u001b[0mpdb\u001b[0m\u001b[0;34m;\u001b[0m\u001b[0mpdb\u001b[0m\u001b[0;34m.\u001b[0m\u001b[0mset_trace\u001b[0m\u001b[0;34m(\u001b[0m\u001b[0;34m)\u001b[0m\u001b[0;34m\u001b[0m\u001b[0m\n\u001b[1;32m     45\u001b[0m \u001b[0;34m\u001b[0m\u001b[0m\n\u001b[0;32m---> 46\u001b[0;31m         \u001b[0;32mreturn\u001b[0m \u001b[0mtable\u001b[0m\u001b[0;34m,\u001b[0m \u001b[0mrelevants_N\u001b[0m\u001b[0;34m\u001b[0m\u001b[0m\n\u001b[0m\u001b[1;32m     47\u001b[0m \u001b[0;34m\u001b[0m\u001b[0m\n\u001b[1;32m     48\u001b[0m \u001b[0;32mclass\u001b[0m \u001b[0mPrecisionRecallEval\u001b[0m\u001b[0;34m(\u001b[0m\u001b[0mEvalMeasure\u001b[0m\u001b[0;34m)\u001b[0m\u001b[0;34m:\u001b[0m\u001b[0;34m\u001b[0m\u001b[0m\n",
      "\u001b[0;32m~/Documents/Study/Sorbonne/RI/RI/Evaluation.py\u001b[0m in \u001b[0;36mcalcule_stats\u001b[0;34m(self, ir_list)\u001b[0m\n\u001b[1;32m     44\u001b[0m         \u001b[0;32mimport\u001b[0m \u001b[0mpdb\u001b[0m\u001b[0;34m;\u001b[0m\u001b[0mpdb\u001b[0m\u001b[0;34m.\u001b[0m\u001b[0mset_trace\u001b[0m\u001b[0;34m(\u001b[0m\u001b[0;34m)\u001b[0m\u001b[0;34m\u001b[0m\u001b[0m\n\u001b[1;32m     45\u001b[0m \u001b[0;34m\u001b[0m\u001b[0m\n\u001b[0;32m---> 46\u001b[0;31m         \u001b[0;32mreturn\u001b[0m \u001b[0mtable\u001b[0m\u001b[0;34m,\u001b[0m \u001b[0mrelevants_N\u001b[0m\u001b[0;34m\u001b[0m\u001b[0m\n\u001b[0m\u001b[1;32m     47\u001b[0m \u001b[0;34m\u001b[0m\u001b[0m\n\u001b[1;32m     48\u001b[0m \u001b[0;32mclass\u001b[0m \u001b[0mPrecisionRecallEval\u001b[0m\u001b[0;34m(\u001b[0m\u001b[0mEvalMeasure\u001b[0m\u001b[0;34m)\u001b[0m\u001b[0;34m:\u001b[0m\u001b[0;34m\u001b[0m\u001b[0m\n",
      "\u001b[0;32m/usr/lib/python3.6/bdb.py\u001b[0m in \u001b[0;36mtrace_dispatch\u001b[0;34m(self, frame, event, arg)\u001b[0m\n\u001b[1;32m     49\u001b[0m             \u001b[0;32mreturn\u001b[0m \u001b[0;31m# None\u001b[0m\u001b[0;34m\u001b[0m\u001b[0m\n\u001b[1;32m     50\u001b[0m         \u001b[0;32mif\u001b[0m \u001b[0mevent\u001b[0m \u001b[0;34m==\u001b[0m \u001b[0;34m'line'\u001b[0m\u001b[0;34m:\u001b[0m\u001b[0;34m\u001b[0m\u001b[0m\n\u001b[0;32m---> 51\u001b[0;31m             \u001b[0;32mreturn\u001b[0m \u001b[0mself\u001b[0m\u001b[0;34m.\u001b[0m\u001b[0mdispatch_line\u001b[0m\u001b[0;34m(\u001b[0m\u001b[0mframe\u001b[0m\u001b[0;34m)\u001b[0m\u001b[0;34m\u001b[0m\u001b[0m\n\u001b[0m\u001b[1;32m     52\u001b[0m         \u001b[0;32mif\u001b[0m \u001b[0mevent\u001b[0m \u001b[0;34m==\u001b[0m \u001b[0;34m'call'\u001b[0m\u001b[0;34m:\u001b[0m\u001b[0;34m\u001b[0m\u001b[0m\n\u001b[1;32m     53\u001b[0m             \u001b[0;32mreturn\u001b[0m \u001b[0mself\u001b[0m\u001b[0;34m.\u001b[0m\u001b[0mdispatch_call\u001b[0m\u001b[0;34m(\u001b[0m\u001b[0mframe\u001b[0m\u001b[0;34m,\u001b[0m \u001b[0marg\u001b[0m\u001b[0;34m)\u001b[0m\u001b[0;34m\u001b[0m\u001b[0m\n",
      "\u001b[0;32m/usr/lib/python3.6/bdb.py\u001b[0m in \u001b[0;36mdispatch_line\u001b[0;34m(self, frame)\u001b[0m\n\u001b[1;32m     68\u001b[0m         \u001b[0;32mif\u001b[0m \u001b[0mself\u001b[0m\u001b[0;34m.\u001b[0m\u001b[0mstop_here\u001b[0m\u001b[0;34m(\u001b[0m\u001b[0mframe\u001b[0m\u001b[0;34m)\u001b[0m \u001b[0;32mor\u001b[0m \u001b[0mself\u001b[0m\u001b[0;34m.\u001b[0m\u001b[0mbreak_here\u001b[0m\u001b[0;34m(\u001b[0m\u001b[0mframe\u001b[0m\u001b[0;34m)\u001b[0m\u001b[0;34m:\u001b[0m\u001b[0;34m\u001b[0m\u001b[0m\n\u001b[1;32m     69\u001b[0m             \u001b[0mself\u001b[0m\u001b[0;34m.\u001b[0m\u001b[0muser_line\u001b[0m\u001b[0;34m(\u001b[0m\u001b[0mframe\u001b[0m\u001b[0;34m)\u001b[0m\u001b[0;34m\u001b[0m\u001b[0m\n\u001b[0;32m---> 70\u001b[0;31m             \u001b[0;32mif\u001b[0m \u001b[0mself\u001b[0m\u001b[0;34m.\u001b[0m\u001b[0mquitting\u001b[0m\u001b[0;34m:\u001b[0m \u001b[0;32mraise\u001b[0m \u001b[0mBdbQuit\u001b[0m\u001b[0;34m\u001b[0m\u001b[0m\n\u001b[0m\u001b[1;32m     71\u001b[0m         \u001b[0;32mreturn\u001b[0m \u001b[0mself\u001b[0m\u001b[0;34m.\u001b[0m\u001b[0mtrace_dispatch\u001b[0m\u001b[0;34m\u001b[0m\u001b[0m\n\u001b[1;32m     72\u001b[0m \u001b[0;34m\u001b[0m\u001b[0m\n",
      "\u001b[0;31mBdbQuit\u001b[0m: "
     ]
    }
   ],
   "source": [
    "from Index import Index, InvertedIndexPlaces\n",
    "from Weighter import WeighterBoolean\n",
    "from EvalIRModel import EvalIRModel\n",
    "\n",
    "from Index import Index, InvertedIndexPlaces\n",
    "from Weighter import WeighterBoolean, WeighterVector\n",
    "from IRModel import Vectoriel\n",
    "\n",
    "index = Index(\"cacm\", \"cacm/cacm.txt\")\n",
    "#index.indexation()\n",
    "\n",
    "weighter = WeighterVector(index)\n",
    "#weighter.calculeNorms()\n",
    "model = Vectoriel(weighter)\n",
    "\n",
    "EvalIRModel().evalModel(model)"
   ]
  }
 ],
 "metadata": {
  "kernelspec": {
   "display_name": "Python 3",
   "language": "python",
   "name": "python3"
  },
  "language_info": {
   "codemirror_mode": {
    "name": "ipython",
    "version": 3
   },
   "file_extension": ".py",
   "mimetype": "text/x-python",
   "name": "python",
   "nbconvert_exporter": "python",
   "pygments_lexer": "ipython3",
   "version": "3.6.7rc1"
  }
 },
 "nbformat": 4,
 "nbformat_minor": 2
}
