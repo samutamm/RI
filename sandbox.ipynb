{
 "cells": [
  {
   "cell_type": "code",
   "execution_count": 18,
   "metadata": {},
   "outputs": [],
   "source": [
    "from Document import Document\n",
    "from ParserCACM import ParserCACM\n",
    "from porter import stem\n",
    "from TextRepresenter import PorterStemmer\n",
    "import cPickle\n",
    "import numpy as np"
   ]
  },
  {
   "cell_type": "code",
   "execution_count": 19,
   "metadata": {},
   "outputs": [],
   "source": [
    "%load_ext autoreload\n",
    "%autoreload 2"
   ]
  },
  {
   "cell_type": "code",
   "execution_count": 31,
   "metadata": {},
   "outputs": [],
   "source": [
    "from Index import Index, InvertedIndexPlaces"
   ]
  },
  {
   "cell_type": "code",
   "execution_count": 32,
   "metadata": {
    "scrolled": true
   },
   "outputs": [
    {
     "name": "stdout",
     "output_type": "stream",
     "text": [
      "593\n",
      "2031\n",
      "4026\n"
     ]
    },
    {
     "ename": "SyntaxError",
     "evalue": "invalid syntax (<unknown>, line 1)",
     "output_type": "error",
     "traceback": [
      "\u001b[0;36m  File \u001b[0;32m\"<unknown>\"\u001b[0;36m, line \u001b[0;32m1\u001b[0m\n\u001b[0;31m    {'2031': '0002'}                                                                                                                                                                                                                                                                                                                                                                                                                                                                                                                                                                                                                                                                                                                                                                                                                                                                                                                                                                                                                                                                                                                                                                                                                                                                                                                                                                                                                                                                                                                                                                                                                                                                                                                                                                                                                                                                                                                                                                                                                                                                                                                                                                                                                                                                                                                                                                                                                                                                                                                                                                                                                                                                                                                                                                                                                                                                                                                                                                                                                                                                                                                                                                                                                                                                                                                                                                                                                                                                                                                                                                                                                                                                                                                                                                                                                                                                                                                                                                                                                                                                                                                                                                                                                                                                                                                                                                                                                                                                                                                                                                                                                                                                                                                                                                                                                                                                                                                                                                                                                                                                                                                                                                                                                                                                                                                                                                                                                                                                                                                                                                                                                                                                                                                                                                                                                                                                                                                                                                                                                                                                                                                                                                                                                                                                                                                                                                                                                                                                                                                                                                                                                                                                                                                                                                                                                                                                                                                                                                                                                                                                                                                                                                                                                                                                                                                                                                                                                                                                                                                                                                                                                                                                                                                                                                                                                                                                                                                                                                                                                                                                                                                                                                                                                                                                                                                                                                                                                                                                                                                                                                                                                                                                                                                                                                {'4026': '0001'}\u001b[0m\n\u001b[0m                                                                                                                                                                                                                                                                                                                                                                                                                                                                                                                                                                                                                                                                                                                                                                                                                                                                                                                                                                                                                                                                                                                                                                                                                                                                                                                                                                                                                                                                                                                                                                                                                                                                                                                                                                                                                                                                                                                                                                                                                                                                                                                                                                                                                                                                                                                                                                                                                                                                                                                                                                                                                                                                                                                                                                                                                                                                                                                                                                                                                                                                                                                                                                                                                                                                                                                                                                                                                                                                                                                                                                                                                                                                                                                                                                                                                                                                                                                                                                                                                                                                                                                                                                                                                                                                                                                                                                                                                                                                                                                                                                                                                                                                                                                                                                                                                                                                                                                                                                                                                                                                                                                                                                                                                                                                                                                                                                                                                                                                                                                                                                                                                                                                                                                                                                                                                                                                                                                                                                                                                                                                                                                                                                                                                                                                                                                                                                                                                                                                                                                                                                                                                                                                                                                                                                                                                                                                                                                                                                                                                                                                                                                                                                                                                                                                                                                                                                                                                                                                                                                                                                                                                                                                                                                                                                                                                                                                                                                                                                                                                                                                                                                                                                                                                                                                                                                                                                                                                                                                                                                                                                                                                                                                                                                                                                                    ^\u001b[0m\n\u001b[0;31mSyntaxError\u001b[0m\u001b[0;31m:\u001b[0m invalid syntax\n"
     ]
    }
   ],
   "source": [
    "index = Index(\"cacm\", \"cacm/cacm.txt\")\n",
    "index.indexation()"
   ]
  },
  {
   "cell_type": "code",
   "execution_count": 26,
   "metadata": {},
   "outputs": [
    {
     "name": "stdout",
     "output_type": "stream",
     "text": [
      "12\n",
      "10\n",
      "0\n"
     ]
    }
   ],
   "source": [
    "from ast import literal_eval\n",
    "\n",
    "f = open(r\"test2\", \"wb\")\n",
    "f.seek(19)\n",
    "f.write(\"{'232':10}  \")\n",
    "f.seek(31)\n",
    "f.write(\"{'loppu':991}\")\n",
    "#res.getvalue??\n",
    "f.close()\n",
    "\n",
    "f = open(r\"test2\", \"rb\")\n",
    "f.seek(19)\n",
    "print(len(f.read(12)))\n",
    "f.seek(19)\n",
    "print(literal_eval(f.read(12).strip())['232'])\n",
    "#res.getvalue??\n",
    "f.seek(119)\n",
    "print(len(f.read(10)))\n",
    "f.close()"
   ]
  },
  {
   "cell_type": "code",
   "execution_count": 101,
   "metadata": {},
   "outputs": [],
   "source": [
    "f = open(r\"test2\", \"wb\")\n",
    "f.seek(23)\n",
    "p = cPickle.Pickler(f)\n",
    "p.dump({\"c221\":3999})\n",
    "f.seek(63)\n",
    "p = cPickle.Pickler(f)\n",
    "p.dump({\"c33\":333})\n",
    "f.close()"
   ]
  },
  {
   "cell_type": "code",
   "execution_count": 74,
   "metadata": {},
   "outputs": [
    {
     "name": "stdout",
     "output_type": "stream",
     "text": [
      "30\n",
      "{'c': 3}\n"
     ]
    }
   ],
   "source": [
    "import os\n",
    "\n",
    "def read_by_id(doc_id, index):\n",
    "    f2 = open(r\"test\", \"rb\")\n",
    "    n = index[doc_id]\n",
    "    print(n)\n",
    "    f2.seek(n)\n",
    "    unpickler2 = cPickle.Unpickler(f2)\n",
    "    return unpickler2.load()\n",
    "\n",
    "print(read_by_id(\"kolmas\", index))"
   ]
  },
  {
   "cell_type": "code",
   "execution_count": 76,
   "metadata": {},
   "outputs": [
    {
     "ename": "MemoryError",
     "evalue": "",
     "output_type": "error",
     "traceback": [
      "\u001b[0;31m---------------------------------------------------------------------------\u001b[0m",
      "\u001b[0;31mMemoryError\u001b[0m                               Traceback (most recent call last)",
      "\u001b[0;32m<ipython-input-76-f3fccdf37251>\u001b[0m in \u001b[0;36m<module>\u001b[0;34m()\u001b[0m\n\u001b[1;32m     18\u001b[0m     \u001b[0;31m#save to file\u001b[0m\u001b[0;34m\u001b[0m\u001b[0;34m\u001b[0m\u001b[0m\n\u001b[1;32m     19\u001b[0m     \u001b[0mstems\u001b[0m \u001b[0;34m=\u001b[0m \u001b[0mstemmer\u001b[0m\u001b[0;34m.\u001b[0m\u001b[0mgetTextRepresentation\u001b[0m\u001b[0;34m(\u001b[0m\u001b[0mtext\u001b[0m\u001b[0;34m)\u001b[0m\u001b[0;34m\u001b[0m\u001b[0m\n\u001b[0;32m---> 20\u001b[0;31m     \u001b[0mpickler\u001b[0m\u001b[0;34m.\u001b[0m\u001b[0mdump\u001b[0m\u001b[0;34m(\u001b[0m\u001b[0mstems\u001b[0m\u001b[0;34m)\u001b[0m\u001b[0;34m\u001b[0m\u001b[0m\n\u001b[0m\u001b[1;32m     21\u001b[0m \u001b[0;34m\u001b[0m\u001b[0m\n\u001b[1;32m     22\u001b[0m     \u001b[0;31m# dictionary can fit to memory\u001b[0m\u001b[0;34m\u001b[0m\u001b[0;34m\u001b[0m\u001b[0m\n",
      "\u001b[0;31mMemoryError\u001b[0m: "
     ]
    }
   ],
   "source": [
    "a=ParserCACM()\n",
    "a.initFile(\"cacm/cacm.txt\")\n",
    "\n",
    "stemmer = PorterStemmer()\n",
    "dictionary = set()\n",
    "f = open(r\"indexes/tfsForDoc\", \"wb\")\n",
    "pickler = cPickle.Pickler(f)\n",
    "doc_start_indexes = {}\n",
    "\n",
    "doc = a.nextDocument()\n",
    "while(doc):\n",
    "    text = doc.getText()\n",
    "    doc_id = doc.getId()\n",
    "    \n",
    "    #save place\n",
    "    doc_start_indexes[doc_id] = f.tell()\n",
    "    \n",
    "    #save to file\n",
    "    stems = stemmer.getTextRepresentation(text)\n",
    "    pickler.dump(stems)\n",
    "    \n",
    "    # dictionary can fit to memory\n",
    "    dictionary.update(stems.keys())\n",
    "\n",
    "f.close()\n",
    "\n",
    "with open(r\"indexes/fileIndexDoc\") as output_file:\n",
    "    pickle.dump(doc_start_indexes, output_file)\n",
    "with open(r\"indexes/dictionary\", \"wb\") as output_file:\n",
    "    pickle.dump(dictionary, output_file)"
   ]
  },
  {
   "cell_type": "code",
   "execution_count": 24,
   "metadata": {},
   "outputs": [
    {
     "data": {
      "text/plain": [
       "8375"
      ]
     },
     "execution_count": 24,
     "metadata": {},
     "output_type": "execute_result"
    }
   ],
   "source": [
    "index_by_word = []\n",
    "\n",
    "# il faut d'abord calculer taille de chaque item dans indexe inversé\n",
    "# il faut recalculer chaque dans chaque etape le position de pointer\n",
    "for word in dictionary:\n",
    "    index_row = {}\n",
    "    for i,document_index_words in index_by_document:\n",
    "        \n",
    "        if word in "
   ]
  },
  {
   "cell_type": "code",
   "execution_count": 3,
   "metadata": {},
   "outputs": [
    {
     "data": {
      "text/plain": [
       "16"
      ]
     },
     "execution_count": 3,
     "metadata": {},
     "output_type": "execute_result"
    }
   ],
   "source": [
    "w = 'd1'\n",
    "len(str({' ' * (4 - len(w)) + w:\"0001\"}))"
   ]
  },
  {
   "cell_type": "code",
   "execution_count": 149,
   "metadata": {},
   "outputs": [],
   "source": [
    "dictionary = set(['Sana', 'Kello', 'Poisson', 'Bileet','Hei'])"
   ]
  },
  {
   "cell_type": "code",
   "execution_count": 186,
   "metadata": {},
   "outputs": [
    {
     "data": {
      "text/plain": [
       "304"
      ]
     },
     "execution_count": 186,
     "metadata": {},
     "output_type": "execute_result"
    }
   ],
   "source": [
    "16 * 19"
   ]
  },
  {
   "cell_type": "code",
   "execution_count": 151,
   "metadata": {},
   "outputs": [
    {
     "name": "stdout",
     "output_type": "stream",
     "text": [
      "[  3.  34.  68. 136. 297.]\n",
      "297\n"
     ]
    }
   ],
   "source": [
    "iip = InvertedIndexPlaces(dictionary)\n",
    "iip.add_file_to_word(\"d1\", ['Sana'])\n",
    "iip.add_file_to_word(\"d10\", ['Sana'])\n",
    "iip.add_file_to_word(\"d10\", ['Kello'])\n",
    "iip.add_file_to_word(\"d11\", ['Hei', 'Poisson'])\n",
    "iip.count_word_fileplaces()\n",
    "print(iip.fileplaces)\n",
    "print(iip.get_place_for_word('Sana'))"
   ]
  }
 ],
 "metadata": {
  "kernelspec": {
   "display_name": "Python 2",
   "language": "python",
   "name": "python2"
  },
  "language_info": {
   "codemirror_mode": {
    "name": "ipython",
    "version": 2
   },
   "file_extension": ".py",
   "mimetype": "text/x-python",
   "name": "python",
   "nbconvert_exporter": "python",
   "pygments_lexer": "ipython2",
   "version": "2.7.15rc1"
  }
 },
 "nbformat": 4,
 "nbformat_minor": 2
}
