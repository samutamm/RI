{
 "cells": [
  {
   "cell_type": "code",
   "execution_count": 1,
   "metadata": {},
   "outputs": [],
   "source": [
    "from matplotlib import pyplot as plt\n",
    "%matplotlib notebook\n",
    "\n",
    "import sys \n",
    "sys.path.append('..')\n",
    "\n",
    "from ParserQuery import *\n",
    "from Index import Index\n",
    "from Weighter import WeighterVector, WeighterSchema3\n",
    "from IRModel import Vectoriel, LanguageModel, BM25Model\n",
    "from Evaluation import *\n",
    "from EvalIRModel import *\n",
    "\n",
    "from diversity.GreedyRanking import GreedyRanking, calculate_vector_presentation, GreedyRankingMMR\n",
    "from sklearn.metrics.pairwise import cosine_similarity\n",
    "\n",
    "import time\n",
    "import pandas as pd\n",
    "import pickle\n",
    "\n",
    "%load_ext autoreload\n",
    "%autoreload 2"
   ]
  },
  {
   "cell_type": "code",
   "execution_count": 2,
   "metadata": {},
   "outputs": [],
   "source": [
    "'''\n",
    "data_path = '../easyCLEF08/'\n",
    "index_path = '../indexes/easyCLEF08/'\n",
    "index_name = 'easyCLEF08'\n",
    "'''\n",
    "\n",
    "#'''\n",
    "data_path = '../data/easyCLEF08/'\n",
    "index_path = '../indexes/easyCLEF08/'\n",
    "index_name = 'easyCLEF08'\n",
    "#'''\n",
    "\n",
    "filename_queries = data_path+'/easyCLEF08_query.txt'\n",
    "filename_jugements = data_path+'/easyCLEF08_gt.txt'\n",
    "\n",
    "eval_ir = EvalIRModel(filename_queries, filename_jugements)"
   ]
  },
  {
   "cell_type": "code",
   "execution_count": null,
   "metadata": {},
   "outputs": [],
   "source": [
    "train_prop = 1 # pas de division train/test\n",
    "seed = 42\n",
    "train_results = {}\n",
    "#test_results = {}\n",
    "\n",
    "lambda_ = 0.13\n",
    "k1 = 2\n",
    "b = 0.95"
   ]
  },
  {
   "cell_type": "code",
   "execution_count": null,
   "metadata": {},
   "outputs": [],
   "source": [
    "index = Index(index_name, data_path+'/easyCLEF08_text.txt', index_path=index_path)\n",
    "#index.indexation()\n",
    "weighter2 = WeighterVector(index)\n",
    "#weighter2.calculeNorms()\n",
    "weighter3 = WeighterSchema3(index)\n",
    "#weighter3.calculeNorms()\n",
    "baseline = BM25Model(weighter2)\n",
    "#greedy_ = GreedyRanking(index)\n",
    "greedyMMR = GreedyRankingMMR(index, sim1='score')"
   ]
  },
  {
   "cell_type": "code",
   "execution_count": null,
   "metadata": {},
   "outputs": [],
   "source": [
    "query_text = \"animal swimming. Relevant images will show one or more animals (fish, birds, reptiles, etc.) swimming in a body of water. Images of people swimming in water are not relevant. Images of animals that are not swimming are not not relevant.\"\n",
    "truc = baseline.getRanking(query_text)\n",
    "doc_score = {doc_rank[0]:doc_rank[1] for doc_rank in truc if doc_rank[1] != 0}\n",
    "greedyMMR_result = greedyMMR.diversify(query_text, truc, doc_limit=100, order_n=20, alpha=0.8)\n",
    "greedy_result = greedy_.diversify(truc, query_text, by_top_n=100, order_n=21)"
   ]
  },
  {
   "cell_type": "code",
   "execution_count": null,
   "metadata": {},
   "outputs": [],
   "source": [
    "train_results[\"baseline\"] = eval_ir.evalModel(baseline,\n",
    "                                    ranking_call =lambda m,q : m.getRanking(q, k1=k1, b=b),\n",
    "                                    train_prop=train_prop, seed=seed, mode='train')\n",
    "\n",
    "#test_results[\"baseline\"] = eval_ir.evalModel(baseline,\n",
    "#                                    ranking_call =lambda m,q : m.getRanking(q, k1=k1, b=b),\n",
    "#                                    train_prop=train_prop, seed=seed, mode='test')"
   ]
  },
  {
   "cell_type": "code",
   "execution_count": null,
   "metadata": {},
   "outputs": [],
   "source": [
    "documents_to_order = 20 # this must be bigger than 20 because of the Prec@20. \n",
    "# If we increment this, it does not change the result as the same top 20 documents will be selected anyway.\n",
    "\n",
    "for alpha in np.linspace(0., 1, 26):\n",
    "    print(\"Alpha:\", alpha)\n",
    "    wrap_greedy = lambda m, q, greedy=greedyMMR: greedy.diversify(q, m.getRanking(q, k1=k1, b=b), \n",
    "                                                                  doc_limit=100, order_n=documents_to_order, alpha=alpha)\n",
    "\n",
    "    train_results['{:.3f}'.format(alpha)] = eval_ir.evalModel(baseline, ranking_call = wrap_greedy,\n",
    "                                   train_prop=train_prop, seed=seed, mode='train')\n",
    "    #test_results[str(alpha)] = eval_ir.evalModel(baseline, ranking_call = wrap_greedy,\n",
    "    #                               train_prop=train_prop, seed=seed, mode='test')"
   ]
  },
  {
   "cell_type": "code",
   "execution_count": 9,
   "metadata": {},
   "outputs": [],
   "source": [
    "with open(\"../models/greedyMMR_sim1score_25alpha_normalized_100train.pickle\", 'wb') as f:\n",
    "    pickle.dump(train_results, f, protocol=4)\n",
    "    #pickle.dump(test_results, f, protocol=4)"
   ]
  },
  {
   "cell_type": "code",
   "execution_count": 10,
   "metadata": {},
   "outputs": [],
   "source": [
    "with open(\"../models/greedyMMR_sim1score_50alpha_normalized_100train.pickle\", 'rb') as f:\n",
    "    train_results = pickle.load(f)\n",
    "    #test_results = pickle.load(f)"
   ]
  },
  {
   "cell_type": "code",
   "execution_count": 12,
   "metadata": {},
   "outputs": [],
   "source": [
    "alphas =  np.linspace(0., 1, 51)\n",
    "\n",
    "res = [train_results['{:.3f}'.format(alpha)]['cluster_recall_at_20'] for alpha in alphas]"
   ]
  },
  {
   "cell_type": "code",
   "execution_count": 20,
   "metadata": {},
   "outputs": [
    {
     "data": {
      "text/plain": [
       "0.72"
      ]
     },
     "execution_count": 20,
     "metadata": {},
     "output_type": "execute_result"
    }
   ],
   "source": [
    "np.argmax(res)*0.02"
   ]
  },
  {
   "cell_type": "code",
   "execution_count": 15,
   "metadata": {},
   "outputs": [
    {
     "data": {
      "image/png": "[encoded data removed]",
      "text/plain": [
       "<Figure size 432x288 with 1 Axes>"
      ]
     },
     "metadata": {
      "needs_background": "light"
     },
     "output_type": "display_data"
    }
   ],
   "source": [
    "fig = plt.figure()\n",
    "ax1 = fig.add_subplot(1, 1, 1)\n",
    "plt.title(\"CR@20 en fonction de alpha\")\n",
    "\n",
    "alphas =  np.linspace(0., 1, 51)\n",
    "plt.axhline(y=train_results['baseline']['cluster_recall_at_20'], label=\"Baseline\")\n",
    "\n",
    "#plt.plot(alphas, [train_results['{:.3f}'.format(alpha)]['cluster_recall_at_20'] for alpha in alphas])\n",
    "plt.errorbar(alphas,\n",
    "             [train_results['{:.3f}'.format(alpha)]['cluster_recall_at_20'] for alpha in alphas],\n",
    "             #yerr=[train_results['{:.3f}'.format(alpha)]['cluster_recall_at_20_std'] for alpha in alphas],\n",
    "             capsize=4)\n",
    "\n",
    "plt.xlabel(\"Alpha\")\n",
    "plt.ylabel(\"CR@20\")\n",
    "#fig.savefig('diversite_glouton_recall.png', dpi=120)\n",
    "plt.show()\n"
   ]
  },
  {
   "cell_type": "code",
   "execution_count": 11,
   "metadata": {},
   "outputs": [
    {
     "data": {
      "image/png": "[encoded data removed]",
      "text/plain": [
       "<Figure size 432x288 with 1 Axes>"
      ]
     },
     "metadata": {
      "needs_background": "light"
     },
     "output_type": "display_data"
    }
   ],
   "source": [
    "fig = plt.figure()\n",
    "ax2 = fig.add_subplot(1, 1, 1)#, sharey=ax1)\n",
    "plt.title(\"Precision@20 en fonction de alpha\")\n",
    "alphas =  np.linspace(0., 1, 21)\n",
    "plt.axhline(y=train_results['baseline']['precision_at_20'], label=\"Baseline\")\n",
    "\n",
    "#plt.plot(alphas, [train_results['{:.3f}'.format(alpha)]['precision_at_20'] for alpha in alphas])\n",
    "plt.errorbar(alphas,\n",
    "             [train_results['{:.3f}'.format(alpha)]['precision_at_20'] for alpha in alphas],\n",
    "             #yerr=[train_results['{:.3f}'.format(alpha)]['precision_at_20_std'] for alpha in alphas],\n",
    "             capsize=4)\n",
    "plt.xlabel(\"Alpha\")\n",
    "plt.ylabel(\"Precision@20\")\n",
    "fig.savefig('diversite_glouton_precision.png', dpi=120)\n",
    "plt.show()"
   ]
  },
  {
   "cell_type": "code",
   "execution_count": null,
   "metadata": {},
   "outputs": [],
   "source": [
    "fig = plt.figure()\n",
    "ax1 = fig.add_subplot(1, 1, 1)\n",
    "\n",
    "'''  \n",
    "ax2 = fig.add_subplot(1, 2, 2, sharey=ax1)\n",
    "plt.title('CR@20 en test en fonction de alpha')\n",
    "ax2.errorbar(range(6), test_results[str(alpha)]['cluster_recall_at_20'], yerr=test_results[str(alpha)]['cluster_recall_at_20_std'], capsize=4)\n",
    "\n",
    "ax2 = fig.add_subplot(1, 2, 2, sharey=ax1)\n",
    "plt.title('Precision@20 en test en fonction de alpha')\n",
    "ax2.errorbar(range(20), test_results[str(alpha)]['precision_at_20'], yerr=test_results[str(alpha)]['precision_at_20_std'], capsize=4)\n",
    "'''\n",
    "plt.show()"
   ]
  }
 ],
 "metadata": {
  "kernelspec": {
   "display_name": "Python 3",
   "language": "python",
   "name": "python3"
  },
  "language_info": {
   "codemirror_mode": {
    "name": "ipython",
    "version": 3
   },
   "file_extension": ".py",
   "mimetype": "text/x-python",
   "name": "python",
   "nbconvert_exporter": "python",
   "pygments_lexer": "ipython3",
   "version": "3.7.2"
  }
 },
 "nbformat": 4,
 "nbformat_minor": 2
}
