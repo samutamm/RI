{
 "cells": [
  {
   "cell_type": "code",
   "execution_count": null,
   "metadata": {},
   "outputs": [],
   "source": [
    "from Document import Document\n",
    "from ParserCACM import ParserCACM\n",
    "from ParserQuery import QueryParser\n",
    "from porter import stem\n",
    "from TextRepresenter import PorterStemmer\n",
    "import pickle\n",
    "import numpy as np\n",
    "import pandas as pd\n",
    "\n",
    "%load_ext autoreload\n",
    "%autoreload 2\n",
    "\n",
    "from Index import Index, InvertedIndexPlaces\n",
    "from Weighter import WeighterBoolean"
   ]
  },
  {
   "cell_type": "code",
   "execution_count": null,
   "metadata": {
    "scrolled": true
   },
   "outputs": [],
   "source": [
    "from Index import Index, InvertedIndexPlaces\n",
    "from Weighter import WeighterBoolean, WeighterVector\n",
    "from IRModel import Vectoriel\n",
    "\n",
    "index = Index(\"cacm\", \"cacm/cacm.txt\")\n",
    "index.indexation()"
   ]
  },
  {
   "cell_type": "code",
   "execution_count": null,
   "metadata": {},
   "outputs": [],
   "source": [
    "stemmer = PorterStemmer()\n",
    "text = \"cat is on the mat, cat\"\n",
    "w1 = WeighterBoolean(index)\n",
    "txt = stemmer.getTextRepresentation(text)\n",
    "print(txt)\n",
    "w1.getWeightsForQuery(txt)"
   ]
  },
  {
   "cell_type": "code",
   "execution_count": null,
   "metadata": {},
   "outputs": [],
   "source": [
    "index.getStrDoc(str(rank[0][0][2:-1]))"
   ]
  },
  {
   "cell_type": "code",
   "execution_count": null,
   "metadata": {},
   "outputs": [],
   "source": [
    "index.getStrDoc('320')"
   ]
  },
  {
   "cell_type": "code",
   "execution_count": null,
   "metadata": {},
   "outputs": [],
   "source": [
    "from ParserQuery import QueryParser\n",
    "from Evaluation import IRList, PrecisionRappelEval"
   ]
  },
  {
   "cell_type": "code",
   "execution_count": null,
   "metadata": {},
   "outputs": [],
   "source": [
    "qp = QueryParser()\n",
    "qp.initFile(\"cacm/cacm.qry\", \"cacm/cacm.rel\")\n",
    "\n",
    "qp.nextQuery()\n",
    "query = qp.nextQuery()\n",
    "model = Vectoriel(WeighterVector(index))\n",
    "rank = model.getRanking(query.text_, normalized=True)\n",
    "irlist = IRList(query, rank)\n",
    "\n",
    "evaluator = PrecisionRappelEval()\n",
    "evaluator.eval(irlist, nbLevels=100)\n",
    "# il returne nans car on prends max d'un vecteur vide avec les k grandes :/"
   ]
  }
 ],
 "metadata": {
  "kernelspec": {
   "display_name": "Python 3",
   "language": "python",
   "name": "python3"
  },
  "language_info": {
   "codemirror_mode": {
    "name": "ipython",
    "version": 3
   },
   "file_extension": ".py",
   "mimetype": "text/x-python",
   "name": "python",
   "nbconvert_exporter": "python",
   "pygments_lexer": "ipython3",
   "version": "3.6.5"
  }
 },
 "nbformat": 4,
 "nbformat_minor": 2
}
