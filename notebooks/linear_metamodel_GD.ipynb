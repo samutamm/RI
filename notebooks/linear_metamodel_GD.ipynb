{
 "cells": [
  {
   "cell_type": "code",
   "execution_count": 7,
   "metadata": {},
   "outputs": [
    {
     "name": "stdout",
     "output_type": "stream",
     "text": [
      "The autoreload extension is already loaded. To reload it, use:\n",
      "  %reload_ext autoreload\n"
     ]
    }
   ],
   "source": [
    "from Document import Document\n",
    "from ParserCACM import ParserCACM\n",
    "from ParserQuery import QueryParser\n",
    "from porter import stem\n",
    "from TextRepresenter import PorterStemmer\n",
    "import pickle\n",
    "import numpy as np\n",
    "import pandas as pd\n",
    "\n",
    "%load_ext autoreload\n",
    "%autoreload 2\n",
    "\n",
    "from EvalIRModel import EvalIRModel\n",
    "from Index import Index, InvertedIndexPlaces\n",
    "from Weighter import WeighterBoolean, WeighterVector\n",
    "from IRModel import Vectoriel, LanguageModel, BM25Model, LinearMetaModel\n",
    "from Featurer import Featurer\n",
    "\n",
    "import matplotlib.pyplot as plt"
   ]
  },
  {
   "cell_type": "code",
   "execution_count": 2,
   "metadata": {},
   "outputs": [
    {
     "name": "stdout",
     "output_type": "stream",
     "text": [
      "precalcul features\n"
     ]
    }
   ],
   "source": [
    "index = Index(\"cacm\", \"cacm/cacm.txt\")\n",
    "featurer = Featurer(index)\n",
    "#index.indexation()\n",
    "#weighter = WeighterVector(index)\n",
    "#weighter.calculeNorms()\n",
    "#model = Vectoriel(weighter)\n",
    "#model = BM25Model(weighter)\n",
    "#model = LanguageModel(weighter)"
   ]
  },
  {
   "cell_type": "code",
   "execution_count": 9,
   "metadata": {},
   "outputs": [],
   "source": [
    "lin_model = LinearMetaModel(featurer)"
   ]
  },
  {
   "cell_type": "code",
   "execution_count": 10,
   "metadata": {},
   "outputs": [
    {
     "name": "stdout",
     "output_type": "stream",
     "text": [
      "[ 0.01316088 -0.06874706  0.08515927  0.03165088  0.08577173  0.0062634\n",
      " -0.16515646]\n",
      "Queries : (64,)\n",
      "Iteration 0\n",
      "Iteration 8\n",
      "Iteration 16\n",
      "Iteration 24\n",
      "Iteration 32\n",
      "Iteration 40\n",
      "Iteration 48\n",
      "Iteration 56\n",
      "Iteration 64\n",
      "Iteration 72\n",
      "Iteration 80\n",
      "Iteration 88\n",
      "Iteration 96\n",
      "Iteration 104\n",
      "Iteration 112\n",
      "Iteration 120\n",
      "Iteration 128\n",
      "Iteration 136\n",
      "Iteration 144\n",
      "Iteration 152\n",
      "Iteration 160\n",
      "Iteration 168\n",
      "Iteration 176\n",
      "Iteration 184\n",
      "Iteration 192\n",
      "Iteration 200\n",
      "Iteration 208\n",
      "Iteration 216\n",
      "Iteration 224\n",
      "Iteration 232\n",
      "Iteration 240\n",
      "Iteration 248\n",
      "Iteration 256\n",
      "Iteration 264\n",
      "Iteration 272\n",
      "Iteration 280\n",
      "Iteration 288\n",
      "Iteration 296\n"
     ]
    },
    {
     "data": {
      "text/plain": [
       "[<matplotlib.lines.Line2D at 0x7fb7352b9e10>]"
      ]
     },
     "execution_count": 10,
     "metadata": {},
     "output_type": "execute_result"
    },
    {
     "data": {
      "image/png": "[encoded data removed]",
      "text/plain": [
       "<Figure size 432x288 with 1 Axes>"
      ]
     },
     "metadata": {},
     "output_type": "display_data"
    }
   ],
   "source": [
    "losses = lin_model.train(300, 0.0000006, 0.1, loss_interval=8)\n",
    "lin_model.save_weights()\n",
    "data = np.array(losses)\n",
    "plt.plot(data[:,0],data[:,1])"
   ]
  },
  {
   "cell_type": "code",
   "execution_count": 11,
   "metadata": {},
   "outputs": [
    {
     "data": {
      "image/png": "[encoded data removed]",
      "text/plain": [
       "<Figure size 432x288 with 1 Axes>"
      ]
     },
     "metadata": {},
     "output_type": "display_data"
    }
   ],
   "source": [
    "plt.scatter(np.arange(7), lin_model.thetas)\n",
    "plt.xticks(np.arange(7),lin_model.attribute_names, rotation='vertical');"
   ]
  }
 ],
 "metadata": {
  "kernelspec": {
   "display_name": "Python 3",
   "language": "python",
   "name": "python3"
  },
  "language_info": {
   "codemirror_mode": {
    "name": "ipython",
    "version": 3
   },
   "file_extension": ".py",
   "mimetype": "text/x-python",
   "name": "python",
   "nbconvert_exporter": "python",
   "pygments_lexer": "ipython3",
   "version": "3.6.5"
  }
 },
 "nbformat": 4,
 "nbformat_minor": 2
}
