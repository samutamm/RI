{
 "cells": [
  {
   "cell_type": "code",
   "execution_count": 1,
   "metadata": {},
   "outputs": [],
   "source": [
    "import pickle\n",
    "from matplotlib import pyplot as plt\n",
    "\n",
    "from TextRepresenter import PorterStemmer\n",
    "from Index import Index\n",
    "from Weighter import *\n",
    "from IRModel import *\n",
    "from EvalIRModel import *\n",
    "from GridSearch import GridSearch"
   ]
  },
  {
   "cell_type": "code",
   "execution_count": 2,
   "metadata": {},
   "outputs": [],
   "source": [
    "index = Index(\"cacm\", \"cacm/cacm.txt\")\n",
    "#index.indexation()\n",
    "weighter = WeighterVector(index)\n",
    "#weighter.calculeNorms()\n",
    "\n",
    "prepend = '_cacm_w2.pickle'\n",
    "#prepend = '_cisi_w2.pickle'"
   ]
  },
  {
   "cell_type": "code",
   "execution_count": 3,
   "metadata": {},
   "outputs": [
    {
     "name": "stdout",
     "output_type": "stream",
     "text": [
      "        What articles exist which deal with TSS (Time Sharing System), an operating system for IBM computers? \n",
      " [1410, 1572, 1605, 2020, 2358, 2434, 2863, 3078, 1134, 1613]\n"
     ]
    }
   ],
   "source": [
    "qp = QueryParser()\n",
    "qp.initFile('cacm/cacm.qry', 'cacm/cacm.rel')\n",
    "qu = qp.nextQuery()\n",
    "\n",
    "query_text = qu.text_\n",
    "print(qu.text_, '\\n', qu.relevants_[:10])\n",
    "ps = PorterStemmer()\n",
    "query = ps.getTextRepresentation(query_text)\n",
    "eval_irm = EvalIRModel('cacm/cacm.qry', 'cacm/cacm.rel')\n",
    "#eval_irm = EvalIRModel('cisi/cisi.qry', 'cisi/cisi.rel')"
   ]
  },
  {
   "cell_type": "markdown",
   "metadata": {},
   "source": [
    "# 1. Modèle de langue"
   ]
  },
  {
   "cell_type": "code",
   "execution_count": 4,
   "metadata": {},
   "outputs": [],
   "source": [
    "language_model = LanguageModel(weighter)"
   ]
  },
  {
   "cell_type": "code",
   "execution_count": 5,
   "metadata": {},
   "outputs": [],
   "source": [
    "scores, score_absent = language_model.getScores(query, 0.1)"
   ]
  },
  {
   "cell_type": "code",
   "execution_count": 7,
   "metadata": {},
   "outputs": [
    {
     "data": {
      "text/plain": [
       "2131"
      ]
     },
     "execution_count": 7,
     "metadata": {},
     "output_type": "execute_result"
    }
   ],
   "source": [
    "len(scores)"
   ]
  },
  {
   "cell_type": "code",
   "execution_count": 22,
   "metadata": {},
   "outputs": [
    {
     "data": {
      "text/plain": [
       "-2.981318497366501"
      ]
     },
     "execution_count": 22,
     "metadata": {},
     "output_type": "execute_result"
    }
   ],
   "source": [
    "scores[57]"
   ]
  },
  {
   "cell_type": "code",
   "execution_count": 40,
   "metadata": {},
   "outputs": [
    {
     "name": "stdout",
     "output_type": "stream",
     "text": [
      "0.025 0.0001729721603033878\n"
     ]
    }
   ],
   "source": [
    "pmd = 1/40\n",
    "pmc = 451/2607356\n",
    "print(pmd, pmc)"
   ]
  },
  {
   "cell_type": "code",
   "execution_count": 15,
   "metadata": {},
   "outputs": [
    {
     "data": {
      "text/plain": [
       "-5.931056440297023"
      ]
     },
     "execution_count": 15,
     "metadata": {},
     "output_type": "execute_result"
    }
   ],
   "source": [
    "np.log(0.1*pmd + 0.9*pmc)"
   ]
  },
  {
   "cell_type": "code",
   "execution_count": 6,
   "metadata": {},
   "outputs": [
    {
     "data": {
      "text/plain": [
       "array([[2371, -64.776524819163],\n",
       "       [2036, -65.2777016851589],\n",
       "       [2069, -65.9694639461373],\n",
       "       ...,\n",
       "       [1865, -78.1384598384618],\n",
       "       [1864, -78.1384598384618],\n",
       "       [1, -78.1384598384618]], dtype=object)"
      ]
     },
     "execution_count": 6,
     "metadata": {},
     "output_type": "execute_result"
    }
   ],
   "source": [
    "language_model.getRanking(qu.text_, lambd=0.105)"
   ]
  },
  {
   "cell_type": "code",
   "execution_count": 9,
   "metadata": {},
   "outputs": [
    {
     "data": {
      "text/plain": [
       "' Combinatorial of M Things Taken One At A Time Two At A Time, Up To N At A Time (Algorithm 161) \\n  Collins, D. H. \\n  \\n '"
      ]
     },
     "execution_count": 9,
     "metadata": {},
     "output_type": "execute_result"
    }
   ],
   "source": [
    "index.getStrDoc(704)"
   ]
  },
  {
   "cell_type": "code",
   "execution_count": 25,
   "metadata": {},
   "outputs": [
    {
     "name": "stdout",
     "output_type": "stream",
     "text": [
      "-2.981318497366501 57\n"
     ]
    }
   ],
   "source": [
    "maxval = -20\n",
    "maxkey = 0\n",
    "for key, val in scores.items():\n",
    "    if val > maxval:\n",
    "        maxval = val\n",
    "        maxkey = key\n",
    "print(maxval, maxkey)"
   ]
  },
  {
   "cell_type": "code",
   "execution_count": 7,
   "metadata": {},
   "outputs": [
    {
     "name": "stderr",
     "output_type": "stream",
     "text": [
      "/home/pierre/documents/upmc/ri/git/IRModel.py:97: RuntimeWarning: divide by zero encountered in log\n",
      "  scores[d] += tw4q[stem] * np.log((1-lambd)*(tf_t_c/l_c))\n"
     ]
    },
    {
     "data": {
      "text/plain": [
       "{'precision_recall': array([0.44934063, 0.17336105, 0.15811888, 0.15811888, 0.15811888,\n",
       "        0.15811888, 0.13420323, 0.13206131, 0.13206131, 0.13206131,\n",
       "        0.13206131, 0.13206131, 0.13206131, 0.13206131, 0.13206131,\n",
       "        0.13206131, 0.13206131, 0.13206131, 0.13206131, 0.13206131]),\n",
       " 'precision_recall_std': array([2.20560049e-01, 8.92805928e-03, 2.68874114e-03, 2.68874114e-03,\n",
       "        2.68874114e-03, 2.68874114e-03, 1.34047229e-03, 3.71796877e-05,\n",
       "        3.71796877e-05, 3.71796877e-05, 3.71796877e-05, 3.71796877e-05,\n",
       "        3.71796877e-05, 3.71796877e-05, 3.71796877e-05, 3.71796877e-05,\n",
       "        3.71796877e-05, 3.71796877e-05, 3.71796877e-05, 3.71796877e-05]),\n",
       " 'precision_mean': 0.1178959275192939,\n",
       " 'precision_mean_std': 0.0030351943392854823}"
      ]
     },
     "execution_count": 7,
     "metadata": {},
     "output_type": "execute_result"
    }
   ],
   "source": [
    "results = eval_irm.evalModel(language_model, ranking_call = lambda m, text: m.getRanking(text, lambd=1))\n",
    "results"
   ]
  },
  {
   "cell_type": "code",
   "execution_count": 83,
   "metadata": {},
   "outputs": [
    {
     "data": {
      "text/plain": [
       "{'precision_recall': array([0.33335915, 0.22131794, 0.21828406, 0.21448632, 0.20158016,\n",
       "        0.18840745, 0.17992398, 0.17304323, 0.16895803, 0.16638396,\n",
       "        0.16169476, 0.15649455, 0.14757655, 0.1420082 , 0.14070677,\n",
       "        0.14048153, 0.13981543, 0.13950089, 0.13950089, 0.13947646]),\n",
       " 'precision_recall_std': array([0.23665181, 0.05738141, 0.05664865, 0.05645964, 0.04528749,\n",
       "        0.03911002, 0.03495516, 0.03377583, 0.03361843, 0.03254995,\n",
       "        0.02986675, 0.02521259, 0.01689424, 0.00774926, 0.00682432,\n",
       "        0.00616851, 0.00555382, 0.00526003, 0.00526003, 0.00524381]),\n",
       " 'precision_mean': 0.1416873292416284,\n",
       " 'precision_mean_std': 0.024344052965063843}"
      ]
     },
     "execution_count": 83,
     "metadata": {},
     "output_type": "execute_result"
    }
   ],
   "source": [
    "results = eval_irm.evalModel(language_model, ranking_call = lambda m, text: m.getRanking(text, lambd=0.01))\n",
    "results"
   ]
  },
  {
   "cell_type": "code",
   "execution_count": 84,
   "metadata": {},
   "outputs": [
    {
     "data": {
      "text/plain": [
       "{'precision_recall': array([0.41790062, 0.23990436, 0.22561612, 0.20763376, 0.18980525,\n",
       "        0.17996858, 0.17432248, 0.16920732, 0.16590037, 0.16317974,\n",
       "        0.15937132, 0.15498508, 0.14665155, 0.14164405, 0.14057276,\n",
       "        0.14032197, 0.13978297, 0.13950089, 0.13950089, 0.13947646]),\n",
       " 'precision_recall_std': array([0.23494905, 0.07325164, 0.06052598, 0.04712402, 0.03831104,\n",
       "        0.03383749, 0.03164816, 0.03114483, 0.03076699, 0.02965819,\n",
       "        0.02755479, 0.02365908, 0.01505251, 0.00706326, 0.00647972,\n",
       "        0.00580792, 0.00547178, 0.00526003, 0.00526003, 0.00524381]),\n",
       " 'precision_mean': 0.14813167781132175,\n",
       " 'precision_mean_std': 0.026599684302734603}"
      ]
     },
     "execution_count": 84,
     "metadata": {},
     "output_type": "execute_result"
    }
   ],
   "source": [
    "results = eval_irm.evalModel(language_model, ranking_call = lambda m, text: m.getRanking(text, lambd=0))\n",
    "results"
   ]
  },
  {
   "cell_type": "markdown",
   "metadata": {},
   "source": [
    "# 2. Modèle BM25"
   ]
  },
  {
   "cell_type": "code",
   "execution_count": null,
   "metadata": {},
   "outputs": [],
   "source": [
    "bm25_model = BM25Model(weighter)"
   ]
  },
  {
   "cell_type": "code",
   "execution_count": null,
   "metadata": {},
   "outputs": [],
   "source": [
    "scores = bm25_model.getScores(query)\n",
    "print(scores)"
   ]
  },
  {
   "cell_type": "code",
   "execution_count": null,
   "metadata": {},
   "outputs": [],
   "source": [
    "bm25_model.getRanking(query_text)[:10]"
   ]
  },
  {
   "cell_type": "code",
   "execution_count": null,
   "metadata": {},
   "outputs": [],
   "source": [
    "results = eval_irm.evalModel(bm25_model, ranking_call = lambda m, text: m.getRanking(text))\n",
    "results"
   ]
  },
  {
   "cell_type": "markdown",
   "metadata": {},
   "source": [
    "# 3. Optimisation des paramètres\n",
    "## 3.1 Language Model"
   ]
  },
  {
   "cell_type": "code",
   "execution_count": 12,
   "metadata": {},
   "outputs": [],
   "source": [
    "#lambda_values = np.geomspace(1e-5, 1, 100)\n",
    "lambda_values = np.linspace(0, 1, 20)"
   ]
  },
  {
   "cell_type": "code",
   "execution_count": 13,
   "metadata": {},
   "outputs": [
    {
     "name": "stderr",
     "output_type": "stream",
     "text": [
      "/home/pierre/documents/upmc/ri/git/IRModel.py:97: RuntimeWarning: divide by zero encountered in log\n",
      "  scores[d] += tw4q[stem] * np.log((1-lambd)*(tf_t_c/l_c))\n"
     ]
    }
   ],
   "source": [
    "search = GridSearch(param_a_name=\"lambd\", param_a_values=lambda_values)\n",
    "results = search.search(language_model, train_prop=0.8, seed=42)\n",
    "lang_results = np.array(results)"
   ]
  },
  {
   "cell_type": "code",
   "execution_count": 14,
   "metadata": {},
   "outputs": [],
   "source": [
    "with open('models/lang_results_corrected'+prepend, 'wb') as f:\n",
    "    pickle.dump(lang_results, f, protocol=4)"
   ]
  },
  {
   "cell_type": "code",
   "execution_count": null,
   "metadata": {},
   "outputs": [],
   "source": [
    "with open('models/lang_results'+prepend, 'rb') as f:\n",
    "    lang_results = pickle.load(f)"
   ]
  },
  {
   "cell_type": "code",
   "execution_count": 11,
   "metadata": {},
   "outputs": [
    {
     "data": {
      "image/png": "[encoded data removed]",
      "text/plain": [
       "<Figure size 432x288 with 1 Axes>"
      ]
     },
     "metadata": {
      "needs_background": "light"
     },
     "output_type": "display_data"
    }
   ],
   "source": [
    "lambda_values = np.linspace(0, 1, 10)\n",
    "#lambda_values = np.geomspace(1e-5, 1, 50)\n",
    "plt.title(\"Modéle de langue - GridSearch\")\n",
    "plt.plot(lambda_values, lang_results[:,1])\n",
    "plt.xlabel(\"Lambda\")\n",
    "plt.xticks(lambda_values, rotation='vertical');"
   ]
  },
  {
   "cell_type": "code",
   "execution_count": 15,
   "metadata": {},
   "outputs": [
    {
     "data": {
      "image/png": "[encoded data removed]",
      "text/plain": [
       "<Figure size 432x288 with 1 Axes>"
      ]
     },
     "metadata": {
      "needs_background": "light"
     },
     "output_type": "display_data"
    }
   ],
   "source": [
    "lambda_values = np.linspace(0, 1, 20)\n",
    "#lambda_values = np.geomspace(1e-5, 1, 50)\n",
    "plt.title(\"Modéle de langue - GridSearch\")\n",
    "plt.plot(lambda_values, lang_results[:,1])\n",
    "plt.xlabel(\"Lambda\")\n",
    "plt.xticks(lambda_values, rotation='vertical');"
   ]
  },
  {
   "cell_type": "markdown",
   "metadata": {},
   "source": [
    "## 3.2 BM25 Model"
   ]
  },
  {
   "cell_type": "code",
   "execution_count": null,
   "metadata": {},
   "outputs": [],
   "source": [
    "param_a_values = np.linspace(1, 2, 20)\n",
    "param_b_values = list(np.linspace(0.5, 1, 20))"
   ]
  },
  {
   "cell_type": "code",
   "execution_count": null,
   "metadata": {},
   "outputs": [],
   "source": [
    "search = GridSearch(param_a_name=\"k1\", param_a_values=param_a_values, param_b_name=\"b\", param_b_values=param_b_values)\n",
    "results = search.search(bm25_model, train_prop=0.8, seed=42)\n",
    "bm25_results = np.array(results)\n",
    "bm25_results"
   ]
  },
  {
   "cell_type": "code",
   "execution_count": null,
   "metadata": {},
   "outputs": [],
   "source": [
    "with open('models/bm25_results'+prepend, 'wb') as f:\n",
    "    pickle.dump(bm25_results, f, protocol=4)"
   ]
  },
  {
   "cell_type": "code",
   "execution_count": null,
   "metadata": {},
   "outputs": [],
   "source": [
    "with open('models/bm25_results'+prepend, 'rb') as f:\n",
    "    bm25_results = pickle.load(f)"
   ]
  },
  {
   "cell_type": "code",
   "execution_count": null,
   "metadata": {},
   "outputs": [],
   "source": [
    "bm25_matrix = np.array(bm25_results[:, 1].reshape(20, 20), dtype=np.float)\n",
    "# k1 : ligne, b : colonnes\n",
    "idx = np.argmax(bm25_matrix)\n",
    "print(param_a_values[idx//20], param_b_values[idx%20], np.max(bm25_matrix))"
   ]
  },
  {
   "cell_type": "code",
   "execution_count": null,
   "metadata": {},
   "outputs": [],
   "source": [
    "fig, ax = plt.subplots()\n",
    "im = ax.imshow(bm25_matrix)\n",
    "# We want to show all ticks...\n",
    "ax.set_xticks(np.arange(len(param_b_values)))\n",
    "ax.set_yticks(np.arange(len(param_a_values)))\n",
    "# ... and label them with the respective list entries\n",
    "ax.set_xticklabels(['{:.2f}'.format(k1v) for k1v in param_b_values])\n",
    "ax.set_yticklabels(['{:.2f}'.format(k1v) for k1v in param_a_values])\n",
    "\n",
    "# Rotate the tick labels and set their alignment.\n",
    "#plt.setp(ax.get_xticklabels(), rotation=45, ha=\"right\",\n",
    "#         rotation_mode=\"anchor\")\n",
    "\n",
    "# Loop over data dimensions and create text annotations.\n",
    "#for i in range(len(param_a_values)):\n",
    "#    for j in range(len(param_b_values)):\n",
    "#        text = ax.text(j, i, bm25_matrix[i, j],\n",
    "#                       ha=\"center\", va=\"center\", color=\"w\")\n",
    "\n",
    "ax.set_title(\"bm25 accuracy\")\n",
    "#fmt = StrMethodFormatter('{x}')\n",
    "#ax.yaxis.set_major_formatter(fmt)\n",
    "\n",
    "fig.tight_layout()\n",
    "plt.show()"
   ]
  },
  {
   "cell_type": "code",
   "execution_count": null,
   "metadata": {},
   "outputs": [],
   "source": []
  }
 ],
 "metadata": {
  "kernelspec": {
   "display_name": "Python 3",
   "language": "python",
   "name": "python3"
  },
  "language_info": {
   "codemirror_mode": {
    "name": "ipython",
    "version": 3
   },
   "file_extension": ".py",
   "mimetype": "text/x-python",
   "name": "python",
   "nbconvert_exporter": "python",
   "pygments_lexer": "ipython3",
   "version": "3.6.5"
  }
 },
 "nbformat": 4,
 "nbformat_minor": 2
}
